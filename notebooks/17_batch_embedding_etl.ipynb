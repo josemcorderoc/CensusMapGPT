{
 "cells": [
  {
   "cell_type": "code",
   "execution_count": 19,
   "metadata": {},
   "outputs": [
    {
     "name": "stdout",
     "output_type": "stream",
     "text": [
      "The autoreload extension is already loaded. To reload it, use:\n",
      "  %reload_ext autoreload\n"
     ]
    }
   ],
   "source": [
    "%load_ext autoreload\n",
    "%autoreload 2"
   ]
  },
  {
   "cell_type": "code",
   "execution_count": 18,
   "metadata": {},
   "outputs": [],
   "source": [
    "\n",
    "import os\n",
    "import sys\n",
    "from dotenv import load_dotenv\n",
    "import pandas as pd\n",
    "from pgvector.psycopg import register_vector\n",
    "import json\n",
    "import pyproj\n",
    "import tqdm\n",
    "pyproj.datadir.set_data_dir('/Users/jm/Code/mapgpt-mvp/.conda/share/proj')\n",
    "\n",
    "sys.path.append('../src')\n",
    "\n",
    "from infrastructure.gpt4 import GPT4, generate_openai_embedding_request\n",
    "from infrastructure.postgres_db import PostgresDB\n",
    "from application.maps.choropleth_map import ChoroplethMap\n",
    "import plotly.graph_objects as go\n",
    "\n",
    "load_dotenv()\n",
    "\n",
    "gpt4 = GPT4()\n",
    "\n",
    "db_name = os.environ.get(\"DB_NAME\")\n",
    "db_user = os.environ.get(\"DB_USER\")\n",
    "db_password = os.environ.get(\"DB_PASSWORD\")\n",
    "db = PostgresDB(db_name=db_name, db_user=db_user, db_password=db_password)\n"
   ]
  },
  {
   "cell_type": "code",
   "execution_count": 35,
   "metadata": {},
   "outputs": [
    {
     "data": {
      "text/plain": [
       "346"
      ]
     },
     "execution_count": 35,
     "metadata": {},
     "output_type": "execute_result"
    }
   ],
   "source": [
    "table = \"comuna\"\n",
    "column = \"nombre\"\n",
    "\n",
    "values = pd.read_sql(f\"SELECT DISTINCT {column} FROM {table}\", con=db.engine)[column]\n",
    "requests = [generate_openai_embedding_request(i, text) for i, text in enumerate(values)]\n",
    "len(requests)\n"
   ]
  },
  {
   "cell_type": "code",
   "execution_count": 36,
   "metadata": {},
   "outputs": [],
   "source": [
    "batch_id = gpt4.send_batch_embedding(requests, f\"batch_embedding__{table}_{column}.jsonl\")"
   ]
  },
  {
   "cell_type": "code",
   "execution_count": 49,
   "metadata": {},
   "outputs": [
    {
     "data": {
      "text/plain": [
       "'completed'"
      ]
     },
     "execution_count": 49,
     "metadata": {},
     "output_type": "execute_result"
    }
   ],
   "source": [
    "gpt4.get_batch(batch_id).status"
   ]
  },
  {
   "cell_type": "code",
   "execution_count": 50,
   "metadata": {},
   "outputs": [],
   "source": [
    "results = gpt4.get_batch_result(gpt4.get_batch(batch_id).output_file_id)\n",
    "requests_df = pd.DataFrame([{\"custom_id\": d[\"custom_id\"], \"input\": d[\"body\"][\"input\"]} for d in requests]).set_index(\"custom_id\")\n",
    "responses_df = pd.DataFrame([{\"custom_id\": d[\"custom_id\"], \"embedding\": d[\"response\"][\"body\"][\"data\"][0][\"embedding\"]} for d in results]).set_index(\"custom_id\")\n",
    "input_embedding = requests_df.join(responses_df).set_index(\"input\")[\"embedding\"].dropna().to_dict()"
   ]
  },
  {
   "cell_type": "code",
   "execution_count": 51,
   "metadata": {},
   "outputs": [
    {
     "name": "stderr",
     "output_type": "stream",
     "text": [
      "100%|██████████| 346/346 [00:00<00:00, 2415.46it/s]\n"
     ]
    }
   ],
   "source": [
    "db.create_connection()\n",
    "register_vector(db.conn)\n",
    "\n",
    "with db.create_connection() as conn:\n",
    "    with conn.cursor() as cur:\n",
    "        with cur.copy(f\"COPY embeddings_openai_small (table_name, column_name, text, embedding) FROM STDIN WITH (FORMAT BINARY)\") as copy:\n",
    "            for name, embedding in tqdm.tqdm(input_embedding.items(), total=len(input_embedding)):\n",
    "                # formatted_embedding = [round(num, 6) for num in embedding]\n",
    "                embedding_str = json.dumps(embedding, separators=(',', ':'))\n",
    "                copy.set_types([\"text\", \"text\", \"text\", \"vector\"])\n",
    "                copy.write_row([table, column, name, embedding])\n",
    "    conn.commit()\n"
   ]
  },
  {
   "cell_type": "markdown",
   "metadata": {},
   "source": [
    "To update tables with embedding values:\n",
    "```sql\n",
    "UPDATE table_name co\n",
    "SET nombre__emb_openai_small = e.embedding\n",
    "FROM embeddings_openai_small e\n",
    "WHERE e.\"text\" = co.nombre```"
   ]
  }
 ],
 "metadata": {
  "kernelspec": {
   "display_name": "Python 3",
   "language": "python",
   "name": "python3"
  },
  "language_info": {
   "codemirror_mode": {
    "name": "ipython",
    "version": 3
   },
   "file_extension": ".py",
   "mimetype": "text/x-python",
   "name": "python",
   "nbconvert_exporter": "python",
   "pygments_lexer": "ipython3",
   "version": "3.11.9"
  }
 },
 "nbformat": 4,
 "nbformat_minor": 2
}
