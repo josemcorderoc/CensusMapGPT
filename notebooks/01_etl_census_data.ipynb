{
 "cells": [
  {
   "cell_type": "code",
   "execution_count": 1,
   "metadata": {},
   "outputs": [],
   "source": [
    "import geopandas as gpd\n",
    "import pandas as pd\n",
    "\n",
    "from prompt2map.providers.openai import OpenAIProvider\n",
    "from prompt2map.providers.openai import generate_openai_embedding_request\n",
    "import topojson as tp\n",
    "\n",
    "import logging\n",
    "\n",
    "logging.basicConfig(level=logging.INFO)"
   ]
  },
  {
   "cell_type": "markdown",
   "metadata": {},
   "source": [
    "# Carta Administrativa Oficial de Portugal"
   ]
  },
  {
   "cell_type": "markdown",
   "metadata": {},
   "source": [
    "Fonte: https://snig.dgterritorio.gov.pt/rndg/srv/por/catalog.search#/metadata/198497815bf647ecaa990c34c42e932e"
   ]
  },
  {
   "cell_type": "code",
   "execution_count": null,
   "metadata": {},
   "outputs": [],
   "source": [
    "!wget https://geo2.dgterritorio.gov.pt/caop/CAOP_Continente_2023-gpkg.zip -P raw"
   ]
  },
  {
   "cell_type": "code",
   "execution_count": 2,
   "metadata": {},
   "outputs": [],
   "source": [
    "caop2023 = gpd.read_file('raw/CAOP_Continente_2023-gpkg.zip', layer=\"Cont_Freg_CAOP2023\")\n",
    "\n",
    "codigos_municipios = caop2023.DICOFRE.str[:4].drop_duplicates()\n",
    "codigos_df = (caop2023[[\"DICOFRE\", \"Freguesia\", \"Municipio\", \"Distrito\"]]\n",
    "                .rename(columns={\"DICOFRE\": \"DTMNFR21\"})\n",
    "                .drop_duplicates()\n",
    "                .set_index(\"DTMNFR21\"))"
   ]
  },
  {
   "cell_type": "markdown",
   "metadata": {},
   "source": [
    "# Dados do Censo 2021"
   ]
  },
  {
   "cell_type": "markdown",
   "metadata": {},
   "source": [
    "Fonte: https://mapas.ine.pt/download/filesGPG/2021Seccoes/"
   ]
  },
  {
   "cell_type": "code",
   "execution_count": null,
   "metadata": {},
   "outputs": [],
   "source": [
    "!wget https://mapas.ine.pt/download/filesGPG/2021Seccoes/C2021_SECCOES_CONT.zip -P raw"
   ]
  },
  {
   "cell_type": "code",
   "execution_count": 3,
   "metadata": {},
   "outputs": [],
   "source": [
    "seccoes_censo = gpd.read_file(\"raw/C2021_SECCOES_CONT.zip!C2021_SECCOES_CONT.gpkg\") \n",
    "\n",
    "seccoes_censo = seccoes_censo.drop(\n",
    "    columns=['DT21', 'DTMN21', 'DTMNFRSEC21', 'NUTS1_15','NUTS2_15','NUTS3_15','N_SS','SECNUM21']\n",
    ")"
   ]
  },
  {
   "cell_type": "code",
   "execution_count": 4,
   "metadata": {},
   "outputs": [
    {
     "data": {
      "text/plain": [
       "True    9929\n",
       "Name: count, dtype: int64"
      ]
     },
     "execution_count": 4,
     "metadata": {},
     "output_type": "execute_result"
    }
   ],
   "source": [
    "seccoes_censo.is_valid.value_counts()"
   ]
  },
  {
   "cell_type": "markdown",
   "metadata": {},
   "source": [
    "## Group by freguesia"
   ]
  },
  {
   "cell_type": "code",
   "execution_count": 6,
   "metadata": {},
   "outputs": [],
   "source": [
    "grouped_freguesia = seccoes_censo.dissolve(by=\"DTMNFR21\", aggfunc='sum')"
   ]
  },
  {
   "cell_type": "code",
   "execution_count": 7,
   "metadata": {},
   "outputs": [
    {
     "data": {
      "text/plain": [
       "True    2882\n",
       "Name: count, dtype: int64"
      ]
     },
     "execution_count": 7,
     "metadata": {},
     "output_type": "execute_result"
    }
   ],
   "source": [
    "grouped_freguesia.is_valid.value_counts()"
   ]
  },
  {
   "cell_type": "markdown",
   "metadata": {},
   "source": [
    "## Adicionar nomes oficiais"
   ]
  },
  {
   "cell_type": "code",
   "execution_count": 9,
   "metadata": {},
   "outputs": [],
   "source": [
    "grouped_freguesia_names = grouped_freguesia.join(codigos_df)"
   ]
  },
  {
   "cell_type": "markdown",
   "metadata": {},
   "source": [
    "## Simplificar geografia"
   ]
  },
  {
   "cell_type": "code",
   "execution_count": 10,
   "metadata": {},
   "outputs": [
    {
     "data": {
      "text/plain": [
       "True     2860\n",
       "False      22\n",
       "Name: count, dtype: int64"
      ]
     },
     "execution_count": 10,
     "metadata": {},
     "output_type": "execute_result"
    }
   ],
   "source": [
    "topo = tp.Topology(grouped_freguesia_names, prequantize=False)\n",
    "simplified_data = topo.toposimplify(100).to_gdf()\n",
    "\n",
    "simplified_data.is_valid.value_counts()"
   ]
  },
  {
   "cell_type": "code",
   "execution_count": 11,
   "metadata": {},
   "outputs": [],
   "source": [
    "simplified_data.geometry = simplified_data.geometry.make_valid()"
   ]
  },
  {
   "cell_type": "code",
   "execution_count": 12,
   "metadata": {},
   "outputs": [],
   "source": [
    "simplified_data.to_parquet(\"../data/censo2021pt/censo2021_freguesia_toposimplify100.parquet\", index=Falsse)"
   ]
  },
  {
   "cell_type": "markdown",
   "metadata": {},
   "source": [
    "# Descrições de variáveis"
   ]
  },
  {
   "cell_type": "markdown",
   "metadata": {},
   "source": [
    "Fonte: https://mapas.ine.pt/download/index2021Seccoes.phtml"
   ]
  },
  {
   "cell_type": "code",
   "execution_count": 35,
   "metadata": {},
   "outputs": [
    {
     "name": "stdout",
     "output_type": "stream",
     "text": [
      "--2024-09-24 01:03:20--  https://mapas.ine.pt/download/C2021_FSINTESE_VARIAVEIS_SECCOES.csv\n",
      "Resolviendo mapas.ine.pt (mapas.ine.pt)... 193.192.10.123\n",
      "Conectando con mapas.ine.pt (mapas.ine.pt)[193.192.10.123]:443... conectado.\n",
      "Petición HTTP enviada, esperando respuesta... 200 OK\n",
      "Longitud: 16048 (16K) [text/plain]\n",
      "Grabando a: «raw/C2021_FSINTESE_VARIAVEIS_SECCOES.csv»\n",
      "\n",
      "C2021_FSINTESE_VARI 100%[===================>]  15.67K  --.-KB/s    en 0s      \n",
      "\n",
      "2024-09-24 01:03:20 (14.9 GB/s) - «raw/C2021_FSINTESE_VARIAVEIS_SECCOES.csv» guardado [16048/16048]\n",
      "\n"
     ]
    }
   ],
   "source": [
    "!wget https://mapas.ine.pt/download/C2021_FSINTESE_VARIAVEIS_SECCOES.csv -P raw"
   ]
  },
  {
   "cell_type": "code",
   "execution_count": 33,
   "metadata": {},
   "outputs": [],
   "source": [
    "variables = pd.read_csv(\"raw/C2021_FSINTESE_VARIAVEIS_SECCOES.csv\", sep=\";\", skiprows=1).rename(columns={\"Variável \": \"column\", \"Descritivo\": \"description\"})\n",
    "\n",
    "missing_variables = pd.DataFrame([\n",
    "    {\"column\": \"Shape_Area\", \"description\": \"Área em m2\"},\n",
    "    {\"column\": \"Shape_Length\", \"description\": \"Perímetro em m\"}\n",
    "])\n",
    "missing_variables = pd.concat([variables, missing_variables], ignore_index=True)\n",
    "missing_variables.to_csv(\"../data/censo2021pt/variables.csv\", index=False)"
   ]
  },
  {
   "cell_type": "markdown",
   "metadata": {},
   "source": [
    "# Embeddings"
   ]
  },
  {
   "cell_type": "code",
   "execution_count": null,
   "metadata": {},
   "outputs": [],
   "source": [
    "all_embeddings = codigos_df.stack().reset_index(drop=True).drop_duplicates().dropna().sort_values().to_list()\n",
    "len(all_embeddings)"
   ]
  },
  {
   "cell_type": "code",
   "execution_count": 5,
   "metadata": {},
   "outputs": [],
   "source": [
    "gpt = OpenAIProvider()"
   ]
  },
  {
   "cell_type": "code",
   "execution_count": 15,
   "metadata": {},
   "outputs": [],
   "source": [
    "requests = [generate_openai_embedding_request(i, text) for i, text in enumerate(all_embeddings, start=1) ]\n",
    "request_id = gpt.send_batch_embedding(requests, \"embedding_input.jsonl\")"
   ]
  },
  {
   "cell_type": "code",
   "execution_count": null,
   "metadata": {},
   "outputs": [],
   "source": [
    "batch = gpt.get_batch(request_id)"
   ]
  },
  {
   "cell_type": "code",
   "execution_count": 55,
   "metadata": {},
   "outputs": [],
   "source": [
    "output = gpt.get_batch_result(batch.output_file_id, \"embeddings_output.jsonl\")"
   ]
  },
  {
   "cell_type": "code",
   "execution_count": 78,
   "metadata": {},
   "outputs": [],
   "source": [
    "embedding_df = pd.DataFrame(zip(all_embeddings, map(lambda r:r[\"response\"][\"body\"][\"data\"][0][\"embedding\"], output)), columns=[\"text\", \"values\"])\n",
    "embedding_df.to_parquet('../data/censo2021pt/embeddings.parquet.gz', index=False, compression=\"gzip\")"
   ]
  },
  {
   "cell_type": "code",
   "execution_count": null,
   "metadata": {},
   "outputs": [],
   "source": []
  }
 ],
 "metadata": {
  "kernelspec": {
   "display_name": "Python 3",
   "language": "python",
   "name": "python3"
  },
  "language_info": {
   "codemirror_mode": {
    "name": "ipython",
    "version": 3
   },
   "file_extension": ".py",
   "mimetype": "text/x-python",
   "name": "python",
   "nbconvert_exporter": "python",
   "pygments_lexer": "ipython3",
   "version": "3.11.10"
  }
 },
 "nbformat": 4,
 "nbformat_minor": 2
}
