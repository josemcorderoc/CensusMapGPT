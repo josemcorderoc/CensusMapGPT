{
 "cells": [
  {
   "cell_type": "code",
   "execution_count": 1,
   "metadata": {},
   "outputs": [],
   "source": [
    "import geopandas as gpd\n",
    "import pandas as pd\n",
    "\n",
    "from prompt2map.providers.openai import OpenAIProvider\n",
    "from prompt2map.providers.openai import generate_openai_embedding_request\n",
    "import topojson as tp\n",
    "\n",
    "import logging\n",
    "\n",
    "logging.basicConfig(level=logging.INFO)"
   ]
  },
  {
   "cell_type": "markdown",
   "metadata": {},
   "source": [
    "# Carta Administrativa Oficial de Portugal"
   ]
  },
  {
   "cell_type": "markdown",
   "metadata": {},
   "source": [
    "Fonte: https://snig.dgterritorio.gov.pt/rndg/srv/por/catalog.search#/metadata/198497815bf647ecaa990c34c42e932e"
   ]
  },
  {
   "cell_type": "code",
   "execution_count": null,
   "metadata": {},
   "outputs": [],
   "source": [
    "!wget https://geo2.dgterritorio.gov.pt/caop/CAOP_Continente_2023-gpkg.zip -P raw"
   ]
  },
  {
   "cell_type": "code",
   "execution_count": 2,
   "metadata": {},
   "outputs": [],
   "source": [
    "caop2023 = gpd.read_file('raw/CAOP_Continente_2023-gpkg.zip', layer=\"Cont_Freg_CAOP2023\")\n",
    "\n",
    "codigos_municipios = caop2023.DICOFRE.str[:4].drop_duplicates()\n",
    "codigos_df = (caop2023[[\"DICOFRE\", \"Freguesia\", \"Municipio\", \"Distrito\"]]\n",
    "                .rename(columns={\"DICOFRE\": \"DTMNFR21\"})\n",
    "                .drop_duplicates()\n",
    "                .set_index(\"DTMNFR21\"))"
   ]
  },
  {
   "cell_type": "markdown",
   "metadata": {},
   "source": [
    "# Dados do Censo 2021"
   ]
  },
  {
   "cell_type": "markdown",
   "metadata": {},
   "source": [
    "Fonte: https://mapas.ine.pt/download/filesGPG/2021Seccoes/"
   ]
  },
  {
   "cell_type": "code",
   "execution_count": null,
   "metadata": {},
   "outputs": [],
   "source": [
    "!wget https://mapas.ine.pt/download/filesGPG/2021Seccoes/C2021_SECCOES_CONT.zip -P raw"
   ]
  },
  {
   "cell_type": "code",
   "execution_count": 3,
   "metadata": {},
   "outputs": [],
   "source": [
    "seccoes_censo = gpd.read_file(\"raw/C2021_SECCOES_CONT.zip!C2021_SECCOES_CONT.gpkg\") \n",
    "\n",
    "seccoes_censo = seccoes_censo.drop(\n",
    "    columns=['DT21', 'DTMN21', 'DTMNFRSEC21', 'NUTS1_15','NUTS2_15','NUTS3_15','N_SS','SECNUM21']\n",
    ")"
   ]
  },
  {
   "cell_type": "code",
   "execution_count": 4,
   "metadata": {},
   "outputs": [
    {
     "data": {
      "text/plain": [
       "True    9929\n",
       "Name: count, dtype: int64"
      ]
     },
     "execution_count": 4,
     "metadata": {},
     "output_type": "execute_result"
    }
   ],
   "source": [
    "seccoes_censo.is_valid.value_counts()"
   ]
  },
  {
   "cell_type": "markdown",
   "metadata": {},
   "source": [
    "## Group by freguesia"
   ]
  },
  {
   "cell_type": "code",
   "execution_count": 6,
   "metadata": {},
   "outputs": [],
   "source": [
    "grouped_freguesia = seccoes_censo.dissolve(by=\"DTMNFR21\", aggfunc='sum')"
   ]
  },
  {
   "cell_type": "code",
   "execution_count": 7,
   "metadata": {},
   "outputs": [
    {
     "data": {
      "text/plain": [
       "True    2882\n",
       "Name: count, dtype: int64"
      ]
     },
     "execution_count": 7,
     "metadata": {},
     "output_type": "execute_result"
    }
   ],
   "source": [
    "grouped_freguesia.is_valid.value_counts()"
   ]
  },
  {
   "cell_type": "markdown",
   "metadata": {},
   "source": [
    "## Adicionar nomes oficiais"
   ]
  },
  {
   "cell_type": "code",
   "execution_count": 9,
   "metadata": {},
   "outputs": [],
   "source": [
    "grouped_freguesia_names = grouped_freguesia.join(codigos_df)"
   ]
  },
  {
   "cell_type": "markdown",
   "metadata": {},
   "source": [
    "## Simplificar geografia"
   ]
  },
  {
   "cell_type": "code",
   "execution_count": 10,
   "metadata": {},
   "outputs": [
    {
     "data": {
      "text/plain": [
       "True     2860\n",
       "False      22\n",
       "Name: count, dtype: int64"
      ]
     },
     "execution_count": 10,
     "metadata": {},
     "output_type": "execute_result"
    }
   ],
   "source": [
    "topo = tp.Topology(grouped_freguesia_names, prequantize=False)\n",
    "simplified_data = topo.toposimplify(100).to_gdf()\n",
    "\n",
    "simplified_data.is_valid.value_counts()"
   ]
  },
  {
   "cell_type": "code",
   "execution_count": 11,
   "metadata": {},
   "outputs": [],
   "source": [
    "simplified_data.geometry = simplified_data.geometry.make_valid()"
   ]
  },
  {
   "cell_type": "code",
   "execution_count": 12,
   "metadata": {},
   "outputs": [],
   "source": [
    "simplified_data.to_parquet(\"../data/censo2021pt/censo2021_freguesia_toposimplify100.parquet\", index=Falsse)"
   ]
  },
  {
   "cell_type": "markdown",
   "metadata": {},
   "source": [
    "# Descrições de variáveis"
   ]
  },
  {
   "cell_type": "markdown",
   "metadata": {},
   "source": [
    "Fonte: https://mapas.ine.pt/download/index2021Seccoes.phtml"
   ]
  },
  {
   "cell_type": "code",
   "execution_count": 35,
   "metadata": {},
   "outputs": [
    {
     "name": "stdout",
     "output_type": "stream",
     "text": [
      "--2024-09-24 01:03:20--  https://mapas.ine.pt/download/C2021_FSINTESE_VARIAVEIS_SECCOES.csv\n",
      "Resolviendo mapas.ine.pt (mapas.ine.pt)... 193.192.10.123\n",
      "Conectando con mapas.ine.pt (mapas.ine.pt)[193.192.10.123]:443... conectado.\n",
      "Petición HTTP enviada, esperando respuesta... 200 OK\n",
      "Longitud: 16048 (16K) [text/plain]\n",
      "Grabando a: «raw/C2021_FSINTESE_VARIAVEIS_SECCOES.csv»\n",
      "\n",
      "C2021_FSINTESE_VARI 100%[===================>]  15.67K  --.-KB/s    en 0s      \n",
      "\n",
      "2024-09-24 01:03:20 (14.9 GB/s) - «raw/C2021_FSINTESE_VARIAVEIS_SECCOES.csv» guardado [16048/16048]\n",
      "\n"
     ]
    }
   ],
   "source": [
    "!wget https://mapas.ine.pt/download/C2021_FSINTESE_VARIAVEIS_SECCOES.csv -P raw"
   ]
  },
  {
   "cell_type": "code",
   "execution_count": 33,
   "metadata": {},
   "outputs": [],
   "source": [
    "variables = pd.read_csv(\"raw/C2021_FSINTESE_VARIAVEIS_SECCOES.csv\", sep=\";\", skiprows=1).rename(columns={\"Variável \": \"column\", \"Descritivo\": \"description\"})\n",
    "\n",
    "missing_variables = pd.DataFrame([\n",
    "    {\"column\": \"Shape_Area\", \"description\": \"Área em m2\"},\n",
    "    {\"column\": \"Shape_Length\", \"description\": \"Perímetro em m\"}\n",
    "])\n",
    "missing_variables = pd.concat([variables, missing_variables], ignore_index=True)\n",
    "missing_variables.to_csv(\"../data/censo2021pt/variables.csv\", index=False)"
   ]
  },
  {
   "cell_type": "markdown",
   "metadata": {},
   "source": [
    "# Embeddings"
   ]
  },
  {
   "cell_type": "code",
   "execution_count": null,
   "metadata": {},
   "outputs": [],
   "source": [
    "all_embeddings = codigos_df.stack().reset_index(drop=True).drop_duplicates().dropna().sort_values().to_list()\n",
    "len(all_embeddings)"
   ]
  },
  {
   "cell_type": "code",
   "execution_count": 5,
   "metadata": {},
   "outputs": [],
   "source": [
    "gpt = OpenAIProvider()"
   ]
  },
  {
   "cell_type": "code",
   "execution_count": 15,
   "metadata": {},
   "outputs": [],
   "source": [
    "requests = [generate_openai_embedding_request(i, text) for i, text in enumerate(all_embeddings, start=1) ]\n",
    "request_id = gpt.send_batch_embedding(requests, \"embedding_input.jsonl\")"
   ]
  },
  {
   "cell_type": "code",
   "execution_count": null,
   "metadata": {},
   "outputs": [],
   "source": [
    "batch = gpt.get_batch(request_id)"
   ]
  },
  {
   "cell_type": "code",
   "execution_count": 55,
   "metadata": {},
   "outputs": [],
   "source": [
    "output = gpt.get_batch_result(batch.output_file_id, \"embeddings_output.jsonl\")"
   ]
  },
  {
   "cell_type": "code",
   "execution_count": 78,
   "metadata": {},
   "outputs": [],
   "source": [
    "embedding_df = pd.DataFrame(zip(all_embeddings, map(lambda r:r[\"response\"][\"body\"][\"data\"][0][\"embedding\"], output)), columns=[\"text\", \"values\"])\n",
    "embedding_df.to_parquet('../data/censo2021pt/embeddings.parquet', index=False)"
   ]
  },
  {
   "cell_type": "code",
   "execution_count": 149,
   "metadata": {},
   "outputs": [],
   "source": [
    "a = duckdb.sql(\"SELECT * FROM '/Users/jm/Code/mapgpt-mvp/data/censo2021pt/embeddings.parquet'\").df()\n",
    "a.to_parquet('../data/censo2021pt/embeddings.parquet.gz', index=False, compression=\"gzip\")\n"
   ]
  },
  {
   "cell_type": "code",
   "execution_count": 146,
   "metadata": {},
   "outputs": [],
   "source": []
  },
  {
   "cell_type": "code",
   "execution_count": 150,
   "metadata": {},
   "outputs": [
    {
     "data": {
      "text/html": [
       "<div>\n",
       "<style scoped>\n",
       "    .dataframe tbody tr th:only-of-type {\n",
       "        vertical-align: middle;\n",
       "    }\n",
       "\n",
       "    .dataframe tbody tr th {\n",
       "        vertical-align: top;\n",
       "    }\n",
       "\n",
       "    .dataframe thead th {\n",
       "        text-align: right;\n",
       "    }\n",
       "</style>\n",
       "<table border=\"1\" class=\"dataframe\">\n",
       "  <thead>\n",
       "    <tr style=\"text-align: right;\">\n",
       "      <th></th>\n",
       "      <th>text</th>\n",
       "      <th>values</th>\n",
       "    </tr>\n",
       "  </thead>\n",
       "  <tbody>\n",
       "    <tr>\n",
       "      <th>0</th>\n",
       "      <td>A dos Francos</td>\n",
       "      <td>[0.008186937, 0.008542891, 0.010678614, 0.0022...</td>\n",
       "    </tr>\n",
       "    <tr>\n",
       "      <th>1</th>\n",
       "      <td>A dos Negros</td>\n",
       "      <td>[0.045769397, 0.009363075, -0.02193381, -0.006...</td>\n",
       "    </tr>\n",
       "    <tr>\n",
       "      <th>2</th>\n",
       "      <td>Abade de Neiva</td>\n",
       "      <td>[0.010747739, 0.0008664023, -0.006095992, 0.03...</td>\n",
       "    </tr>\n",
       "    <tr>\n",
       "      <th>3</th>\n",
       "      <td>Abadim</td>\n",
       "      <td>[0.046897903, 0.02299857, 0.027052013, 0.06404...</td>\n",
       "    </tr>\n",
       "    <tr>\n",
       "      <th>4</th>\n",
       "      <td>Abambres</td>\n",
       "      <td>[0.0416421, 0.019071035, 0.029681364, 0.014730...</td>\n",
       "    </tr>\n",
       "    <tr>\n",
       "      <th>...</th>\n",
       "      <td>...</td>\n",
       "      <td>...</td>\n",
       "    </tr>\n",
       "    <tr>\n",
       "      <th>2863</th>\n",
       "      <td>Évora de Alcobaça</td>\n",
       "      <td>[0.005184332, -0.02555724, 0.010730423, 0.0119...</td>\n",
       "    </tr>\n",
       "    <tr>\n",
       "      <th>2864</th>\n",
       "      <td>Ílhavo</td>\n",
       "      <td>[-0.034412332, 0.02194545, 0.009519422, 0.0100...</td>\n",
       "    </tr>\n",
       "    <tr>\n",
       "      <th>2865</th>\n",
       "      <td>Ílhavo (São Salvador)</td>\n",
       "      <td>[-0.0064445063, 0.033996493, 0.0396308, 0.0033...</td>\n",
       "    </tr>\n",
       "    <tr>\n",
       "      <th>2866</th>\n",
       "      <td>Ínsua</td>\n",
       "      <td>[-0.022281582, 0.047120284, -0.02518498, 0.026...</td>\n",
       "    </tr>\n",
       "    <tr>\n",
       "      <th>2867</th>\n",
       "      <td>Óbidos</td>\n",
       "      <td>[0.013514658, 0.027979888, 0.009443729, 0.0219...</td>\n",
       "    </tr>\n",
       "  </tbody>\n",
       "</table>\n",
       "<p>2868 rows × 2 columns</p>\n",
       "</div>"
      ],
      "text/plain": [
       "                       text                                             values\n",
       "0             A dos Francos  [0.008186937, 0.008542891, 0.010678614, 0.0022...\n",
       "1              A dos Negros  [0.045769397, 0.009363075, -0.02193381, -0.006...\n",
       "2            Abade de Neiva  [0.010747739, 0.0008664023, -0.006095992, 0.03...\n",
       "3                    Abadim  [0.046897903, 0.02299857, 0.027052013, 0.06404...\n",
       "4                  Abambres  [0.0416421, 0.019071035, 0.029681364, 0.014730...\n",
       "...                     ...                                                ...\n",
       "2863      Évora de Alcobaça  [0.005184332, -0.02555724, 0.010730423, 0.0119...\n",
       "2864                 Ílhavo  [-0.034412332, 0.02194545, 0.009519422, 0.0100...\n",
       "2865  Ílhavo (São Salvador)  [-0.0064445063, 0.033996493, 0.0396308, 0.0033...\n",
       "2866                  Ínsua  [-0.022281582, 0.047120284, -0.02518498, 0.026...\n",
       "2867                 Óbidos  [0.013514658, 0.027979888, 0.009443729, 0.0219...\n",
       "\n",
       "[2868 rows x 2 columns]"
      ]
     },
     "execution_count": 150,
     "metadata": {},
     "output_type": "execute_result"
    }
   ],
   "source": [
    "c = duckdb.sql(\"SELECT * FROM '/Users/jm/Code/mapgpt-mvp/data/censo2021pt/embeddings.parquet.gz'\").df()\n",
    "c"
   ]
  },
  {
   "cell_type": "code",
   "execution_count": 144,
   "metadata": {},
   "outputs": [
    {
     "data": {
      "text/html": [
       "<div>\n",
       "<style scoped>\n",
       "    .dataframe tbody tr th:only-of-type {\n",
       "        vertical-align: middle;\n",
       "    }\n",
       "\n",
       "    .dataframe tbody tr th {\n",
       "        vertical-align: top;\n",
       "    }\n",
       "\n",
       "    .dataframe thead th {\n",
       "        text-align: right;\n",
       "    }\n",
       "</style>\n",
       "<table border=\"1\" class=\"dataframe\">\n",
       "  <thead>\n",
       "    <tr style=\"text-align: right;\">\n",
       "      <th></th>\n",
       "      <th>text</th>\n",
       "      <th>values</th>\n",
       "      <th>starts_with</th>\n",
       "    </tr>\n",
       "  </thead>\n",
       "  <tbody>\n",
       "    <tr>\n",
       "      <th>0</th>\n",
       "      <td>A dos Francos</td>\n",
       "      <td>[0.008186937, 0.008542891, 0.010678614, 0.0022...</td>\n",
       "      <td>a</td>\n",
       "    </tr>\n",
       "    <tr>\n",
       "      <th>1</th>\n",
       "      <td>A dos Negros</td>\n",
       "      <td>[0.045769397, 0.009363075, -0.02193381, -0.006...</td>\n",
       "      <td>a</td>\n",
       "    </tr>\n",
       "    <tr>\n",
       "      <th>2</th>\n",
       "      <td>Abade de Neiva</td>\n",
       "      <td>[0.010747739, 0.0008664023, -0.006095992, 0.03...</td>\n",
       "      <td>a</td>\n",
       "    </tr>\n",
       "    <tr>\n",
       "      <th>3</th>\n",
       "      <td>Abadim</td>\n",
       "      <td>[0.046897903, 0.02299857, 0.027052013, 0.06404...</td>\n",
       "      <td>a</td>\n",
       "    </tr>\n",
       "    <tr>\n",
       "      <th>4</th>\n",
       "      <td>Abambres</td>\n",
       "      <td>[0.0416421, 0.019071035, 0.029681364, 0.014730...</td>\n",
       "      <td>a</td>\n",
       "    </tr>\n",
       "    <tr>\n",
       "      <th>...</th>\n",
       "      <td>...</td>\n",
       "      <td>...</td>\n",
       "      <td>...</td>\n",
       "    </tr>\n",
       "    <tr>\n",
       "      <th>250</th>\n",
       "      <td>Águeda</td>\n",
       "      <td>[0.007848273, 0.011033175, -0.020034265, -0.00...</td>\n",
       "      <td>a</td>\n",
       "    </tr>\n",
       "    <tr>\n",
       "      <th>251</th>\n",
       "      <td>Álvaro</td>\n",
       "      <td>[0.033496447, 0.021426976, -0.048082426, -0.00...</td>\n",
       "      <td>a</td>\n",
       "    </tr>\n",
       "    <tr>\n",
       "      <th>252</th>\n",
       "      <td>Árvore</td>\n",
       "      <td>[0.011485596, 0.004209825, -0.022842469, 0.004...</td>\n",
       "      <td>a</td>\n",
       "    </tr>\n",
       "    <tr>\n",
       "      <th>253</th>\n",
       "      <td>Ázere</td>\n",
       "      <td>[0.020033559, -0.0017797981, -0.07187126, 0.02...</td>\n",
       "      <td>a</td>\n",
       "    </tr>\n",
       "    <tr>\n",
       "      <th>254</th>\n",
       "      <td>Âncora</td>\n",
       "      <td>[0.03986943, 0.0048662066, -0.011540777, -0.03...</td>\n",
       "      <td>a</td>\n",
       "    </tr>\n",
       "  </tbody>\n",
       "</table>\n",
       "<p>255 rows × 3 columns</p>\n",
       "</div>"
      ],
      "text/plain": [
       "               text                                             values  \\\n",
       "0     A dos Francos  [0.008186937, 0.008542891, 0.010678614, 0.0022...   \n",
       "1      A dos Negros  [0.045769397, 0.009363075, -0.02193381, -0.006...   \n",
       "2    Abade de Neiva  [0.010747739, 0.0008664023, -0.006095992, 0.03...   \n",
       "3            Abadim  [0.046897903, 0.02299857, 0.027052013, 0.06404...   \n",
       "4          Abambres  [0.0416421, 0.019071035, 0.029681364, 0.014730...   \n",
       "..              ...                                                ...   \n",
       "250          Águeda  [0.007848273, 0.011033175, -0.020034265, -0.00...   \n",
       "251          Álvaro  [0.033496447, 0.021426976, -0.048082426, -0.00...   \n",
       "252          Árvore  [0.011485596, 0.004209825, -0.022842469, 0.004...   \n",
       "253           Ázere  [0.020033559, -0.0017797981, -0.07187126, 0.02...   \n",
       "254          Âncora  [0.03986943, 0.0048662066, -0.011540777, -0.03...   \n",
       "\n",
       "    starts_with  \n",
       "0             a  \n",
       "1             a  \n",
       "2             a  \n",
       "3             a  \n",
       "4             a  \n",
       "..          ...  \n",
       "250           a  \n",
       "251           a  \n",
       "252           a  \n",
       "253           a  \n",
       "254           a  \n",
       "\n",
       "[255 rows x 3 columns]"
      ]
     },
     "execution_count": 144,
     "metadata": {},
     "output_type": "execute_result"
    }
   ],
   "source": [
    "c = duckdb.sql(\"SELECT * FROM '/Users/jm/Code/mapgpt-mvp/data/censo2021pt/embeddings.parquet.gz/*/*.parquet'\").df()\n",
    "c"
   ]
  },
  {
   "cell_type": "code",
   "execution_count": 126,
   "metadata": {},
   "outputs": [],
   "source": [
    "x = pd.read_parquet('../data/censo2021pt/embeddings.parquet')\n",
    "x.to_parquet('../data/censo2021pt/embeddings_gzip.parquet', index=False, compression='gzip')"
   ]
  },
  {
   "cell_type": "code",
   "execution_count": null,
   "metadata": {},
   "outputs": [],
   "source": []
  },
  {
   "cell_type": "code",
   "execution_count": 119,
   "metadata": {},
   "outputs": [],
   "source": [
    "y = pd.DataFrame(x[\"values\"].tolist())\n",
    "x = x.join(y).drop(columns=[\"values\"])\n",
    "x.to_parquet(\"test_v1.parquet\", index=False)"
   ]
  },
  {
   "cell_type": "code",
   "execution_count": null,
   "metadata": {},
   "outputs": [],
   "source": []
  }
 ],
 "metadata": {
  "kernelspec": {
   "display_name": "Python 3",
   "language": "python",
   "name": "python3"
  },
  "language_info": {
   "codemirror_mode": {
    "name": "ipython",
    "version": 3
   },
   "file_extension": ".py",
   "mimetype": "text/x-python",
   "name": "python",
   "nbconvert_exporter": "python",
   "pygments_lexer": "ipython3",
   "version": "3.11.10"
  }
 },
 "nbformat": 4,
 "nbformat_minor": 2
}
