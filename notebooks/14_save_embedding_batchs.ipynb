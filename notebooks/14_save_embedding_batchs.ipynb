{
 "cells": [
  {
   "cell_type": "code",
   "execution_count": 3,
   "metadata": {},
   "outputs": [
    {
     "name": "stderr",
     "output_type": "stream",
     "text": [
      "/Users/jm/Code/mapgpt-mvp/.conda/lib/python3.11/site-packages/pyproj/__init__.py:89: UserWarning: pyproj unable to set database path.\n",
      "  _pyproj_global_context_initialize()\n",
      "/Users/jm/Code/mapgpt-mvp/.conda/lib/python3.11/site-packages/geopandas/io/sql.py:185: UserWarning: pandas only supports SQLAlchemy connectable (engine/connection) or database string URI or sqlite3 DBAPI2 connection. Other DBAPI2 objects are not tested. Please consider using SQLAlchemy.\n",
      "  df = pd.read_sql(\n",
      "/Users/jm/Code/mapgpt-mvp/.conda/lib/python3.11/site-packages/geopandas/io/sql.py:473: UserWarning: pandas only supports SQLAlchemy connectable (engine/connection) or database string URI or sqlite3 DBAPI2 connection. Other DBAPI2 objects are not tested. Please consider using SQLAlchemy.\n",
      "  return pd.read_sql(spatial_ref_sys_sql, con)\n",
      "/var/folders/8j/bf4mjlj94czf88p79v8gb24w0000gp/T/ipykernel_24506/2590278563.py:56: UserWarning: Geometry is in a geographic CRS. Results from 'centroid' are likely incorrect. Use 'GeoSeries.to_crs()' to re-project geometries to a projected CRS before this operation.\n",
      "\n",
      "  lat = comunas.geom.centroid.y,\n",
      "/var/folders/8j/bf4mjlj94czf88p79v8gb24w0000gp/T/ipykernel_24506/2590278563.py:57: UserWarning: Geometry is in a geographic CRS. Results from 'centroid' are likely incorrect. Use 'GeoSeries.to_crs()' to re-project geometries to a projected CRS before this operation.\n",
      "\n",
      "  lon = comunas.geom.centroid.x,\n",
      "/var/folders/8j/bf4mjlj94czf88p79v8gb24w0000gp/T/ipykernel_24506/2590278563.py:46: ShapelyDeprecationWarning: The 'type' attribute is deprecated, and will be removed in the future. You can use the 'geom_type' attribute instead.\n",
      "  if geom.type == 'Polygon':\n",
      "/var/folders/8j/bf4mjlj94czf88p79v8gb24w0000gp/T/ipykernel_24506/2590278563.py:48: ShapelyDeprecationWarning: The 'type' attribute is deprecated, and will be removed in the future. You can use the 'geom_type' attribute instead.\n",
      "  elif geom.type == 'MultiPolygon':\n"
     ]
    }
   ],
   "source": [
    "import plotly.graph_objects as go\n",
    "from plotly.subplots import make_subplots\n",
    "\n",
    "# Example data for the first choropleth map\n",
    "# data1 = dict(\n",
    "#     # type = 'choropleth_mapbox',\n",
    "#     locations = ['USA', 'CAN', 'MEX'],\n",
    "#     z = [1, 2, 3],\n",
    "#     locationmode = 'country names',\n",
    "#     colorscale = 'Blues',\n",
    "#     colorbar_title = 'Data 1'\n",
    "# )\n",
    "\n",
    "import numpy as np\n",
    "import pandas as pd\n",
    "from shapely.geometry import Polygon\n",
    "import geopandas as gpd\n",
    "import pyproj\n",
    "pyproj.datadir.set_data_dir('/Users/jm/Code/mapgpt-mvp/.conda/share/proj')\n",
    "import matplotlib.pyplot as plt\n",
    "import os\n",
    "import sys\n",
    "from dotenv import load_dotenv\n",
    "import pandas as pd\n",
    "import pydeck as pdk\n",
    "from IPython.display import display\n",
    "sys.path.append('../src')\n",
    "\n",
    "from infrastructure.gpt4 import GPT4\n",
    "from infrastructure.postgres_db import PostgresDB\n",
    "from application.maps.choropleth_map import ChoroplethMap\n",
    "import plotly.graph_objects as go\n",
    "\n",
    "load_dotenv()\n",
    "\n",
    "db_name = os.environ.get(\"DB_NAME\")\n",
    "db_user = os.environ.get(\"DB_USER\")\n",
    "db_password = os.environ.get(\"DB_PASSWORD\")\n",
    "\n",
    "\n",
    "db = PostgresDB(db_name=db_name, db_user=db_user, db_password=db_password)\n",
    "comunas = db.run_gpd_query(\"SELECT * FROM comuna\")\n",
    "\n",
    "# Function to extract coordinates\n",
    "def get_polygon_coordinates(geom):\n",
    "    if geom.type == 'Polygon':\n",
    "        return [(x, y) for x, y in geom.exterior.coords]\n",
    "    elif geom.type == 'MultiPolygon':\n",
    "        return [[(x, y) for x, y in polygon.exterior.coords] for polygon in geom.geoms][0]\n",
    "    else:\n",
    "        return None\n",
    "\n",
    "comunas = comunas.to_crs(epsg=4326)\n",
    "np.random.seed(9)\n",
    "comunas = comunas.assign(\n",
    "    lat = comunas.geom.centroid.y,\n",
    "    lon = comunas.geom.centroid.x,\n",
    "    coordinates = comunas.geom.apply(lambda geom: [list(coord) for coord in geom.geoms[0].exterior.coords]),\n",
    "    coordinates2 = comunas.geom.apply(get_polygon_coordinates),\n",
    "    score=lambda _df: np.random.randint(0, 101, size=len(_df)),\n",
    "    score1=lambda _df: np.random.randint(0, 101, size=len(_df)),\n",
    "    score2=lambda _df: np.random.randint(0, 101, size=len(_df)),\n",
    "    score3=lambda _df: np.random.randint(0, 101, size=len(_df)),\n",
    "    # geom = comunas.geom.simplify(10, preserve_topology=True)\n",
    "\n",
    "\n",
    "    \n",
    ")\n",
    "# comunas.geom = comunas.geom.simplify(10, preserve_topology=True)\n",
    "comunas = comunas.to_crs(epsg=3857)\n",
    "c = comunas.set_index(\"codigo\").head(10)\n",
    "c.geom = c.geom.simplify(10, preserve_topology=True)\n",
    "d = comunas.set_index(\"codigo\").tail(10)\n",
    "d.geom = d.geom.simplify(10, preserve_topology=True)\n",
    "\n"
   ]
  },
  {
   "cell_type": "code",
   "execution_count": 4,
   "metadata": {},
   "outputs": [],
   "source": [
    "gpt4 = GPT4()"
   ]
  },
  {
   "cell_type": "code",
   "execution_count": 5,
   "metadata": {},
   "outputs": [
    {
     "data": {
      "text/plain": [
       "array([ 0.0286979 , -0.03164996, -0.01430055, ..., -0.01932148,\n",
       "       -0.01322378, -0.01555881])"
      ]
     },
     "execution_count": 5,
     "metadata": {},
     "output_type": "execute_result"
    }
   ],
   "source": [
    "x = gpt4.get_embedding(\"hola\")\n",
    "x"
   ]
  },
  {
   "cell_type": "code",
   "execution_count": 6,
   "metadata": {},
   "outputs": [
    {
     "data": {
      "text/plain": [
       "(1536,)"
      ]
     },
     "execution_count": 6,
     "metadata": {},
     "output_type": "execute_result"
    }
   ],
   "source": [
    "x.shape"
   ]
  },
  {
   "cell_type": "code",
   "execution_count": null,
   "metadata": {},
   "outputs": [],
   "source": []
  },
  {
   "cell_type": "code",
   "execution_count": 14,
   "metadata": {},
   "outputs": [
    {
     "data": {
      "text/html": [
       "<div>\n",
       "<style scoped>\n",
       "    .dataframe tbody tr th:only-of-type {\n",
       "        vertical-align: middle;\n",
       "    }\n",
       "\n",
       "    .dataframe tbody tr th {\n",
       "        vertical-align: top;\n",
       "    }\n",
       "\n",
       "    .dataframe thead th {\n",
       "        text-align: right;\n",
       "    }\n",
       "</style>\n",
       "<table border=\"1\" class=\"dataframe\">\n",
       "  <thead>\n",
       "    <tr style=\"text-align: right;\">\n",
       "      <th></th>\n",
       "      <th>id</th>\n",
       "      <th>nombre</th>\n",
       "    </tr>\n",
       "  </thead>\n",
       "  <tbody>\n",
       "    <tr>\n",
       "      <th>0</th>\n",
       "      <td>1</td>\n",
       "      <td>Apruebo</td>\n",
       "    </tr>\n",
       "    <tr>\n",
       "      <th>1</th>\n",
       "      <td>2</td>\n",
       "      <td>Rechazo</td>\n",
       "    </tr>\n",
       "    <tr>\n",
       "      <th>2</th>\n",
       "      <td>3</td>\n",
       "      <td>Votos Nulos</td>\n",
       "    </tr>\n",
       "    <tr>\n",
       "      <th>3</th>\n",
       "      <td>4</td>\n",
       "      <td>Votos En Blanco</td>\n",
       "    </tr>\n",
       "    <tr>\n",
       "      <th>4</th>\n",
       "      <td>5</td>\n",
       "      <td>Patricio Ferreira Rivera</td>\n",
       "    </tr>\n",
       "    <tr>\n",
       "      <th>...</th>\n",
       "      <td>...</td>\n",
       "      <td>...</td>\n",
       "    </tr>\n",
       "    <tr>\n",
       "      <th>142166</th>\n",
       "      <td>152306</td>\n",
       "      <td>Mauricio Andres Contreras Diaz</td>\n",
       "    </tr>\n",
       "    <tr>\n",
       "      <th>142167</th>\n",
       "      <td>152307</td>\n",
       "      <td>Francisco Javier Diaz Martinez</td>\n",
       "    </tr>\n",
       "    <tr>\n",
       "      <th>142168</th>\n",
       "      <td>152308</td>\n",
       "      <td>Veronica Nogueira Boettiger</td>\n",
       "    </tr>\n",
       "    <tr>\n",
       "      <th>142169</th>\n",
       "      <td>152309</td>\n",
       "      <td>Ruben Esteban Mendez Venegas</td>\n",
       "    </tr>\n",
       "    <tr>\n",
       "      <th>142170</th>\n",
       "      <td>152310</td>\n",
       "      <td>Claudia Espina Videla</td>\n",
       "    </tr>\n",
       "  </tbody>\n",
       "</table>\n",
       "<p>142171 rows × 2 columns</p>\n",
       "</div>"
      ],
      "text/plain": [
       "            id                          nombre\n",
       "0            1                         Apruebo\n",
       "1            2                         Rechazo\n",
       "2            3                     Votos Nulos\n",
       "3            4                 Votos En Blanco\n",
       "4            5        Patricio Ferreira Rivera\n",
       "...        ...                             ...\n",
       "142166  152306  Mauricio Andres Contreras Diaz\n",
       "142167  152307  Francisco Javier Diaz Martinez\n",
       "142168  152308     Veronica Nogueira Boettiger\n",
       "142169  152309    Ruben Esteban Mendez Venegas\n",
       "142170  152310           Claudia Espina Videla\n",
       "\n",
       "[142171 rows x 2 columns]"
      ]
     },
     "execution_count": 14,
     "metadata": {},
     "output_type": "execute_result"
    }
   ],
   "source": [
    "for i, row in pd.read_sql(\"SELECT id, nombre FROM candidato\", con=db.engine).iterrows():\n",
    "    update_query = \"UPDATE your_table SET your_column = %s WHERE id = %s\"\n",
    "    cur.execute(update_query, (value, row_id))"
   ]
  },
  {
   "cell_type": "code",
   "execution_count": null,
   "metadata": {},
   "outputs": [],
   "source": [
    "\n",
    "# Connect to the PostgreSQL database\n",
    "with db.conn.cursor() as cur:\n",
    "    # Create a cursor object to execute SQL queries\n",
    "    # Define a dictionary with the row values to be updated\n",
    "    row_values = {\n",
    "        1: 'value1',\n",
    "        2: 'value2',\n",
    "        3: 'value3'\n",
    "    }\n",
    "\n",
    "    # Iterate over the dictionary and execute an UPDATE query for each row\n",
    "    for row_id, value in row_values.items():\n",
    "        update_query = \"UPDATE your_table SET your_column = %s WHERE id = %s\"\n",
    "        cur.execute(update_query, (value, row_id))\n",
    "\n",
    "    # Commit the changes to the database\n",
    "    conn.commit()\n",
    "\n",
    "    # Close the cursor and the connection\n",
    "    cur.close()\n",
    "    conn.close()"
   ]
  },
  {
   "cell_type": "code",
   "execution_count": null,
   "metadata": {},
   "outputs": [],
   "source": []
  }
 ],
 "metadata": {
  "kernelspec": {
   "display_name": "Python 3",
   "language": "python",
   "name": "python3"
  },
  "language_info": {
   "codemirror_mode": {
    "name": "ipython",
    "version": 3
   },
   "file_extension": ".py",
   "mimetype": "text/x-python",
   "name": "python",
   "nbconvert_exporter": "python",
   "pygments_lexer": "ipython3",
   "version": "3.11.9"
  }
 },
 "nbformat": 4,
 "nbformat_minor": 2
}
