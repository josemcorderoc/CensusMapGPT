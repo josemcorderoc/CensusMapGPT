{
 "cells": [
  {
   "cell_type": "code",
   "execution_count": 83,
   "metadata": {},
   "outputs": [],
   "source": [
    "import sys\n",
    "\n",
    "sys.path.append('../src')\n",
    "from infrastructure.postgres_db import PostgresDB\n",
    "from infrastructure.gpt4_chat import GPT4Chat\n",
    "from application.services.sqlcodermodel import GPT4SQLModel\n",
    "\n",
    "from dotenv import load_dotenv\n",
    "\n",
    "load_dotenv()\n",
    "\n",
    "db = PostgresDB(\"elecciones_chile\", \"jm\", \"\")\n",
    "gpt4 = GPT4Chat()\n",
    "gpt4_sql =GPT4SQLModel(gpt4, db.get_schema())\n",
    "\n"
   ]
  },
  {
   "cell_type": "code",
   "execution_count": 9,
   "metadata": {},
   "outputs": [],
   "source": [
    "query = gpt4_sql.to_sql(\"Participación en elecciones presidenciales primera vuelta de 2013\")"
   ]
  },
  {
   "cell_type": "code",
   "execution_count": 22,
   "metadata": {},
   "outputs": [],
   "source": [
    "query2 = \"\\n\".join(query.splitlines()[1:-1])"
   ]
  },
  {
   "cell_type": "code",
   "execution_count": 25,
   "metadata": {},
   "outputs": [
    {
     "name": "stdout",
     "output_type": "stream",
     "text": [
      "SELECT \n",
      "    e.nombre AS election_name,\n",
      "    e.fecha AS election_date,\n",
      "    c.nombre AS candidate_name,\n",
      "    p.nombre AS party_name,\n",
      "    SUM(v.votos) AS total_votes\n",
      "FROM \n",
      "    eleccion e\n",
      "JOIN \n",
      "    candidatura cd ON e.id = cd.eleccion_id\n",
      "JOIN \n",
      "    candidato c ON cd.candidato_id = c.id\n",
      "JOIN \n",
      "    partido p ON cd.partido_id = p.id\n",
      "JOIN \n",
      "    votos_mesa v ON cd.id = v.candidatura_id\n",
      "WHERE \n",
      "    e.nombre = 'Presidenciales Primera Vuelta 2013'\n",
      "GROUP BY \n",
      "    e.nombre, e.fecha, c.nombre, p.nombre\n",
      "ORDER BY \n",
      "    total_votes DESC;\n"
     ]
    }
   ],
   "source": [
    "print(query2)"
   ]
  },
  {
   "cell_type": "code",
   "execution_count": 86,
   "metadata": {},
   "outputs": [
    {
     "data": {
      "text/plain": [
       "0.42213860500562195"
      ]
     },
     "execution_count": 86,
     "metadata": {},
     "output_type": "execute_result"
    }
   ],
   "source": [
    "from scipy import spatial\n",
    "from application.services.embeddings.openai_embedding import OpenAIEmbedding\n",
    "\n",
    "\n",
    "embedding = OpenAIEmbedding() \n",
    "\n",
    "emb2 = embedding.generate(\"hola\")\n",
    "emb1 = embedding.generate(\"chao\")\n",
    "1 - spatial.distance.cosine(emb1, emb2).item()\n"
   ]
  },
  {
   "cell_type": "code",
   "execution_count": 89,
   "metadata": {},
   "outputs": [],
   "source": [
    "from application.services.cosine_similarity import CosineSimilarity\n",
    "\n",
    "x = [\n",
    "    \"Plebiscito Constitucional 2022\",\n",
    "    \"Presidencial 2021 Primera Vuelta\",\n",
    "    \"Presidencial 2021 Segunda Vuelta\",\n",
    "    \"Municipal 2021 - Alcaldes\",\n",
    "    \"Municipal 2021 - Concejales\",\n",
    "    \"Municipal 2016 - Alcaldes\",\n",
    "    \"Municipal 2016 - Concejales\",\n",
    "    \"Municipal 2012 - Alcaldes\",\n",
    "    \"Municipal 2012 - Concejales\",\n",
    "    \"CORE 2021\",\n",
    "    \"CORE 2017\",\n",
    "    \"CORE 2013\",\n",
    "    \"Plebiscito Constitucional 2020 Apruebo Rechazo\",\n",
    "    \"Presidencial 2017 Primera Vuelta\",\n",
    "    \"Presidencial 2017 Segunda Vuelta\",\n",
    "    \"Presidencial 2013 Primera Vuelta\",\n",
    "    \"Presidencial 2013 Segunda Vuelta\",\n",
    "    \"Senadores 2021\",\n",
    "    \"Senadores 2017\",\n",
    "    \"Senadores 2013\",\n",
    "    \"Diputados 2021\",\n",
    "    \"Diputados 2017\",\n",
    "    \"Diputados 2013\"\n",
    "]\n",
    "cs = CosineSimilarity(embedding=embedding)\n",
    "# for j in x:\n",
    "#     cs(\"Presidenciales Primera Vuelta 2013\", )"
   ]
  },
  {
   "cell_type": "code",
   "execution_count": 94,
   "metadata": {},
   "outputs": [],
   "source": [
    "import pandas as pd\n",
    "\n",
    "\n",
    "x1 = pd.DataFrame(x, columns=[\"name\"])\n",
    "x1[\"similarity\"] = x1[\"name\"].apply(lambda x: cs(\"Presidenciales Primera Vuelta 2013\", x))"
   ]
  },
  {
   "cell_type": "code",
   "execution_count": 96,
   "metadata": {},
   "outputs": [
    {
     "data": {
      "text/html": [
       "<div>\n",
       "<style scoped>\n",
       "    .dataframe tbody tr th:only-of-type {\n",
       "        vertical-align: middle;\n",
       "    }\n",
       "\n",
       "    .dataframe tbody tr th {\n",
       "        vertical-align: top;\n",
       "    }\n",
       "\n",
       "    .dataframe thead th {\n",
       "        text-align: right;\n",
       "    }\n",
       "</style>\n",
       "<table border=\"1\" class=\"dataframe\">\n",
       "  <thead>\n",
       "    <tr style=\"text-align: right;\">\n",
       "      <th></th>\n",
       "      <th>name</th>\n",
       "      <th>similarity</th>\n",
       "    </tr>\n",
       "  </thead>\n",
       "  <tbody>\n",
       "    <tr>\n",
       "      <th>15</th>\n",
       "      <td>Presidencial 2013 Primera Vuelta</td>\n",
       "      <td>0.925457</td>\n",
       "    </tr>\n",
       "    <tr>\n",
       "      <th>16</th>\n",
       "      <td>Presidencial 2013 Segunda Vuelta</td>\n",
       "      <td>0.893589</td>\n",
       "    </tr>\n",
       "    <tr>\n",
       "      <th>13</th>\n",
       "      <td>Presidencial 2017 Primera Vuelta</td>\n",
       "      <td>0.862861</td>\n",
       "    </tr>\n",
       "    <tr>\n",
       "      <th>14</th>\n",
       "      <td>Presidencial 2017 Segunda Vuelta</td>\n",
       "      <td>0.836098</td>\n",
       "    </tr>\n",
       "    <tr>\n",
       "      <th>1</th>\n",
       "      <td>Presidencial 2021 Primera Vuelta</td>\n",
       "      <td>0.818734</td>\n",
       "    </tr>\n",
       "    <tr>\n",
       "      <th>2</th>\n",
       "      <td>Presidencial 2021 Segunda Vuelta</td>\n",
       "      <td>0.788672</td>\n",
       "    </tr>\n",
       "    <tr>\n",
       "      <th>22</th>\n",
       "      <td>Diputados 2013</td>\n",
       "      <td>0.581259</td>\n",
       "    </tr>\n",
       "    <tr>\n",
       "      <th>19</th>\n",
       "      <td>Senadores 2013</td>\n",
       "      <td>0.498277</td>\n",
       "    </tr>\n",
       "    <tr>\n",
       "      <th>21</th>\n",
       "      <td>Diputados 2017</td>\n",
       "      <td>0.484960</td>\n",
       "    </tr>\n",
       "    <tr>\n",
       "      <th>8</th>\n",
       "      <td>Municipal 2012 - Concejales</td>\n",
       "      <td>0.454102</td>\n",
       "    </tr>\n",
       "    <tr>\n",
       "      <th>7</th>\n",
       "      <td>Municipal 2012 - Alcaldes</td>\n",
       "      <td>0.439346</td>\n",
       "    </tr>\n",
       "    <tr>\n",
       "      <th>6</th>\n",
       "      <td>Municipal 2016 - Concejales</td>\n",
       "      <td>0.437252</td>\n",
       "    </tr>\n",
       "    <tr>\n",
       "      <th>5</th>\n",
       "      <td>Municipal 2016 - Alcaldes</td>\n",
       "      <td>0.419372</td>\n",
       "    </tr>\n",
       "    <tr>\n",
       "      <th>18</th>\n",
       "      <td>Senadores 2017</td>\n",
       "      <td>0.412565</td>\n",
       "    </tr>\n",
       "    <tr>\n",
       "      <th>20</th>\n",
       "      <td>Diputados 2021</td>\n",
       "      <td>0.409359</td>\n",
       "    </tr>\n",
       "    <tr>\n",
       "      <th>4</th>\n",
       "      <td>Municipal 2021 - Concejales</td>\n",
       "      <td>0.397088</td>\n",
       "    </tr>\n",
       "    <tr>\n",
       "      <th>3</th>\n",
       "      <td>Municipal 2021 - Alcaldes</td>\n",
       "      <td>0.384697</td>\n",
       "    </tr>\n",
       "    <tr>\n",
       "      <th>0</th>\n",
       "      <td>Plebiscito Constitucional 2022</td>\n",
       "      <td>0.358335</td>\n",
       "    </tr>\n",
       "    <tr>\n",
       "      <th>12</th>\n",
       "      <td>Plebiscito Constitucional 2020 Apruebo Rechazo</td>\n",
       "      <td>0.345342</td>\n",
       "    </tr>\n",
       "    <tr>\n",
       "      <th>17</th>\n",
       "      <td>Senadores 2021</td>\n",
       "      <td>0.339814</td>\n",
       "    </tr>\n",
       "    <tr>\n",
       "      <th>11</th>\n",
       "      <td>CORE 2013</td>\n",
       "      <td>0.298502</td>\n",
       "    </tr>\n",
       "    <tr>\n",
       "      <th>10</th>\n",
       "      <td>CORE 2017</td>\n",
       "      <td>0.266862</td>\n",
       "    </tr>\n",
       "    <tr>\n",
       "      <th>9</th>\n",
       "      <td>CORE 2021</td>\n",
       "      <td>0.203724</td>\n",
       "    </tr>\n",
       "  </tbody>\n",
       "</table>\n",
       "</div>"
      ],
      "text/plain": [
       "                                              name  similarity\n",
       "15                Presidencial 2013 Primera Vuelta    0.925457\n",
       "16                Presidencial 2013 Segunda Vuelta    0.893589\n",
       "13                Presidencial 2017 Primera Vuelta    0.862861\n",
       "14                Presidencial 2017 Segunda Vuelta    0.836098\n",
       "1                 Presidencial 2021 Primera Vuelta    0.818734\n",
       "2                 Presidencial 2021 Segunda Vuelta    0.788672\n",
       "22                                  Diputados 2013    0.581259\n",
       "19                                  Senadores 2013    0.498277\n",
       "21                                  Diputados 2017    0.484960\n",
       "8                      Municipal 2012 - Concejales    0.454102\n",
       "7                        Municipal 2012 - Alcaldes    0.439346\n",
       "6                      Municipal 2016 - Concejales    0.437252\n",
       "5                        Municipal 2016 - Alcaldes    0.419372\n",
       "18                                  Senadores 2017    0.412565\n",
       "20                                  Diputados 2021    0.409359\n",
       "4                      Municipal 2021 - Concejales    0.397088\n",
       "3                        Municipal 2021 - Alcaldes    0.384697\n",
       "0                   Plebiscito Constitucional 2022    0.358335\n",
       "12  Plebiscito Constitucional 2020 Apruebo Rechazo    0.345342\n",
       "17                                  Senadores 2021    0.339814\n",
       "11                                       CORE 2013    0.298502\n",
       "10                                       CORE 2017    0.266862\n",
       "9                                        CORE 2021    0.203724"
      ]
     },
     "execution_count": 96,
     "metadata": {},
     "output_type": "execute_result"
    }
   ],
   "source": [
    "x1.sort_values(\"similarity\", ascending=False)"
   ]
  },
  {
   "cell_type": "code",
   "execution_count": null,
   "metadata": {},
   "outputs": [],
   "source": []
  },
  {
   "cell_type": "code",
   "execution_count": null,
   "metadata": {},
   "outputs": [],
   "source": []
  },
  {
   "cell_type": "code",
   "execution_count": 42,
   "metadata": {},
   "outputs": [
    {
     "name": "stdout",
     "output_type": "stream",
     "text": [
      "Where(\n",
      "  this=EQ(\n",
      "    this=Column(\n",
      "      this=Identifier(this=nombre, quoted=False, _type=None, _comments=None, _id=4774326096),\n",
      "      table=Identifier(this=e, quoted=False, _type=None, _comments=None, _id=4774325584),\n",
      "      db=None,\n",
      "      catalog=None,\n",
      "      _type=None,\n",
      "      _comments=None,\n",
      "      _id=4774326352),\n",
      "    expression=Literal(this=Presidenciales Primera Vuelta 2013, is_string=True, _type=None, _comments=None, _id=4774316624),\n",
      "    _type=None,\n",
      "    _comments=None,\n",
      "    _id=4774315728),\n",
      "  _type=None,\n",
      "  _comments=None,\n",
      "  _id=4774318800)\n"
     ]
    }
   ],
   "source": [
    "from sqlglot import parse_one, exp\n",
    "\n",
    "# print all column references (a and b)\n",
    "# for column in parse_one(query2).find_all(exp.Column):\n",
    "#     print(column.alias_or_name)\n",
    "\n",
    "# find all projections in select statements (a and c)\n",
    "# for select in parse_one(query2).find_all(exp.Select):\n",
    "#     for projection in select.expressions:\n",
    "#         print(projection.alias_or_name)\n",
    "\n",
    "# find all tables (x, y, z)\n",
    "for table in parse_one(query2).find_all(exp.Where):\n",
    "    print(table.to_s())"
   ]
  },
  {
   "cell_type": "code",
   "execution_count": 47,
   "metadata": {},
   "outputs": [
    {
     "name": "stdout",
     "output_type": "stream",
     "text": [
      "Select(\n",
      "  expressions=[\n",
      "    Alias(\n",
      "      this=Column(\n",
      "        this=Identifier(this=nombre, quoted=False),\n",
      "        table=Identifier(this=e, quoted=False)),\n",
      "      alias=Identifier(this=election_name, quoted=False)),\n",
      "    Alias(\n",
      "      this=Column(\n",
      "        this=Identifier(this=fecha, quoted=False),\n",
      "        table=Identifier(this=e, quoted=False)),\n",
      "      alias=Identifier(this=election_date, quoted=False)),\n",
      "    Alias(\n",
      "      this=Column(\n",
      "        this=Identifier(this=nombre, quoted=False),\n",
      "        table=Identifier(this=c, quoted=False)),\n",
      "      alias=Identifier(this=candidate_name, quoted=False)),\n",
      "    Alias(\n",
      "      this=Column(\n",
      "        this=Identifier(this=nombre, quoted=False),\n",
      "        table=Identifier(this=p, quoted=False)),\n",
      "      alias=Identifier(this=party_name, quoted=False)),\n",
      "    Alias(\n",
      "      this=Sum(\n",
      "        this=Column(\n",
      "          this=Identifier(this=votos, quoted=False),\n",
      "          table=Identifier(this=v, quoted=False))),\n",
      "      alias=Identifier(this=total_votes, quoted=False))],\n",
      "  from=From(\n",
      "    this=Table(\n",
      "      this=Identifier(this=eleccion, quoted=False),\n",
      "      alias=TableAlias(\n",
      "        this=Identifier(this=e, quoted=False)))),\n",
      "  joins=[\n",
      "    Join(\n",
      "      this=Table(\n",
      "        this=Identifier(this=candidatura, quoted=False),\n",
      "        alias=TableAlias(\n",
      "          this=Identifier(this=cd, quoted=False))),\n",
      "      on=EQ(\n",
      "        this=Column(\n",
      "          this=Identifier(this=id, quoted=False),\n",
      "          table=Identifier(this=e, quoted=False)),\n",
      "        expression=Column(\n",
      "          this=Identifier(this=eleccion_id, quoted=False),\n",
      "          table=Identifier(this=cd, quoted=False)))),\n",
      "    Join(\n",
      "      this=Table(\n",
      "        this=Identifier(this=candidato, quoted=False),\n",
      "        alias=TableAlias(\n",
      "          this=Identifier(this=c, quoted=False))),\n",
      "      on=EQ(\n",
      "        this=Column(\n",
      "          this=Identifier(this=candidato_id, quoted=False),\n",
      "          table=Identifier(this=cd, quoted=False)),\n",
      "        expression=Column(\n",
      "          this=Identifier(this=id, quoted=False),\n",
      "          table=Identifier(this=c, quoted=False)))),\n",
      "    Join(\n",
      "      this=Table(\n",
      "        this=Identifier(this=partido, quoted=False),\n",
      "        alias=TableAlias(\n",
      "          this=Identifier(this=p, quoted=False))),\n",
      "      on=EQ(\n",
      "        this=Column(\n",
      "          this=Identifier(this=partido_id, quoted=False),\n",
      "          table=Identifier(this=cd, quoted=False)),\n",
      "        expression=Column(\n",
      "          this=Identifier(this=id, quoted=False),\n",
      "          table=Identifier(this=p, quoted=False)))),\n",
      "    Join(\n",
      "      this=Table(\n",
      "        this=Identifier(this=votos_mesa, quoted=False),\n",
      "        alias=TableAlias(\n",
      "          this=Identifier(this=v, quoted=False))),\n",
      "      on=EQ(\n",
      "        this=Column(\n",
      "          this=Identifier(this=id, quoted=False),\n",
      "          table=Identifier(this=cd, quoted=False)),\n",
      "        expression=Column(\n",
      "          this=Identifier(this=candidatura_id, quoted=False),\n",
      "          table=Identifier(this=v, quoted=False))))],\n",
      "  where=Where(\n",
      "    this=EQ(\n",
      "      this=Column(\n",
      "        this=Identifier(this=nombre, quoted=False),\n",
      "        table=Identifier(this=e, quoted=False)),\n",
      "      expression=Literal(this=Presidenciales Primera Vuelta 2013, is_string=True))),\n",
      "  group=Group(\n",
      "    expressions=[\n",
      "      Column(\n",
      "        this=Identifier(this=nombre, quoted=False),\n",
      "        table=Identifier(this=e, quoted=False)),\n",
      "      Column(\n",
      "        this=Identifier(this=fecha, quoted=False),\n",
      "        table=Identifier(this=e, quoted=False)),\n",
      "      Column(\n",
      "        this=Identifier(this=nombre, quoted=False),\n",
      "        table=Identifier(this=c, quoted=False)),\n",
      "      Column(\n",
      "        this=Identifier(this=nombre, quoted=False),\n",
      "        table=Identifier(this=p, quoted=False))]),\n",
      "  order=Order(\n",
      "    expressions=[\n",
      "      Ordered(\n",
      "        this=Column(\n",
      "          this=Identifier(this=total_votes, quoted=False)),\n",
      "        desc=True,\n",
      "        nulls_first=False)]))\n"
     ]
    }
   ],
   "source": [
    "print(repr(parse_one(query2)))"
   ]
  },
  {
   "cell_type": "code",
   "execution_count": null,
   "metadata": {},
   "outputs": [],
   "source": [
    "for "
   ]
  },
  {
   "cell_type": "markdown",
   "metadata": {},
   "source": []
  },
  {
   "cell_type": "code",
   "execution_count": 64,
   "metadata": {},
   "outputs": [],
   "source": [
    "eqs = list(parse_one(query2).find(exp.Where).find_all(exp.EQ))"
   ]
  },
  {
   "cell_type": "code",
   "execution_count": 97,
   "metadata": {},
   "outputs": [
    {
     "data": {
      "text/plain": [
       "[EQ(\n",
       "   this=Column(\n",
       "     this=Identifier(this=nombre, quoted=False),\n",
       "     table=Identifier(this=e, quoted=False)),\n",
       "   expression=Literal(this=Presidenciales Primera Vuelta 2013, is_string=True))]"
      ]
     },
     "execution_count": 97,
     "metadata": {},
     "output_type": "execute_result"
    }
   ],
   "source": [
    "eqs"
   ]
  },
  {
   "cell_type": "code",
   "execution_count": 72,
   "metadata": {},
   "outputs": [
    {
     "data": {
      "text/plain": [
       "Where(\n",
       "  this=EQ(\n",
       "    this=Column(\n",
       "      this=Identifier(this=nombre, quoted=False),\n",
       "      table=Identifier(this=e, quoted=False)),\n",
       "    expression=Literal(this=Presidenciales Primera Vuelta 2013, is_string=True)))"
      ]
     },
     "execution_count": 72,
     "metadata": {},
     "output_type": "execute_result"
    }
   ],
   "source": [
    "parse_one(query2).find(exp.Where)"
   ]
  },
  {
   "cell_type": "code",
   "execution_count": 76,
   "metadata": {},
   "outputs": [],
   "source": [
    "p1 = parse_one(query2)\n",
    "table_alias = {t.alias:t.name for t in p1.find_all(exp.Table)}"
   ]
  },
  {
   "cell_type": "code",
   "execution_count": 79,
   "metadata": {},
   "outputs": [
    {
     "data": {
      "text/plain": [
       "{'e': 'eleccion',\n",
       " 'cd': 'candidatura',\n",
       " 'c': 'candidato',\n",
       " 'p': 'partido',\n",
       " 'v': 'votos_mesa'}"
      ]
     },
     "execution_count": 79,
     "metadata": {},
     "output_type": "execute_result"
    }
   ],
   "source": [
    "table_alias"
   ]
  },
  {
   "cell_type": "code",
   "execution_count": 110,
   "metadata": {},
   "outputs": [
    {
     "data": {
      "text/plain": [
       "'e'"
      ]
     },
     "execution_count": 110,
     "metadata": {},
     "output_type": "execute_result"
    }
   ],
   "source": [
    "eqs[0].find(exp.Column).table"
   ]
  },
  {
   "cell_type": "code",
   "execution_count": null,
   "metadata": {},
   "outputs": [],
   "source": [
    "from sqlalchemy import MetaData\n",
    "\n",
    "\n",
    "metadata = MetaData()\n",
    "metadata.reflect(bind=db.engine)\n",
    "schema = metadata.schema\n"
   ]
  },
  {
   "cell_type": "code",
   "execution_count": null,
   "metadata": {},
   "outputs": [],
   "source": [
    "metadata.tables[\"candidato\"]"
   ]
  },
  {
   "cell_type": "code",
   "execution_count": null,
   "metadata": {},
   "outputs": [],
   "source": [
    "db.engine.conn\n"
   ]
  },
  {
   "cell_type": "code",
   "execution_count": null,
   "metadata": {},
   "outputs": [],
   "source": []
  }
 ],
 "metadata": {
  "kernelspec": {
   "display_name": "Python 3",
   "language": "python",
   "name": "python3"
  },
  "language_info": {
   "codemirror_mode": {
    "name": "ipython",
    "version": 3
   },
   "file_extension": ".py",
   "mimetype": "text/x-python",
   "name": "python",
   "nbconvert_exporter": "python",
   "pygments_lexer": "ipython3",
   "version": "3.11.9"
  }
 },
 "nbformat": 4,
 "nbformat_minor": 2
}
