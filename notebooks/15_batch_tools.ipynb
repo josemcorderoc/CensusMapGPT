{
 "cells": [
  {
   "cell_type": "code",
   "execution_count": 1,
   "metadata": {},
   "outputs": [],
   "source": [
    "\n",
    "import jsonlines\n",
    "import openai\n",
    "from dotenv import load_dotenv\n",
    "\n",
    "load_dotenv()\n",
    "\n",
    "\n",
    "client = openai.Client()\n"
   ]
  },
  {
   "cell_type": "code",
   "execution_count": 2,
   "metadata": {},
   "outputs": [],
   "source": []
  },
  {
   "cell_type": "code",
   "execution_count": 3,
   "metadata": {},
   "outputs": [
    {
     "data": {
      "text/plain": [
       "[{'custom_id': 'embedding_request_0',\n",
       "  'method': 'POST',\n",
       "  'url': '/v1/embeddings',\n",
       "  'body': {'input': 'Gabriel Boric', 'model': 'text-embedding-3-small'}},\n",
       " {'custom_id': 'embedding_request_1',\n",
       "  'method': 'POST',\n",
       "  'url': '/v1/embeddings',\n",
       "  'body': {'input': 'Emilia Ríos', 'model': 'text-embedding-3-small'}}]"
      ]
     },
     "execution_count": 3,
     "metadata": {},
     "output_type": "execute_result"
    }
   ],
   "source": [
    "texts = [\"Gabriel Boric\", \"Emilia Ríos\"]\n",
    "requests = [generate_openai_embedding_request(i, text) for i, text in enumerate(texts)]\n",
    "requests"
   ]
  },
  {
   "cell_type": "code",
   "execution_count": 4,
   "metadata": {},
   "outputs": [
    {
     "ename": "NameError",
     "evalue": "name 'send_batch_embedding' is not defined",
     "output_type": "error",
     "traceback": [
      "\u001b[0;31m---------------------------------------------------------------------------\u001b[0m",
      "\u001b[0;31mNameError\u001b[0m                                 Traceback (most recent call last)",
      "Cell \u001b[0;32mIn[4], line 1\u001b[0m\n\u001b[0;32m----> 1\u001b[0m batch_id \u001b[38;5;241m=\u001b[39m \u001b[43msend_batch_embedding\u001b[49m(requests, \u001b[38;5;124m\"\u001b[39m\u001b[38;5;124mtest1.jsonl\u001b[39m\u001b[38;5;124m\"\u001b[39m)\n\u001b[1;32m      2\u001b[0m batch_id\n",
      "\u001b[0;31mNameError\u001b[0m: name 'send_batch_embedding' is not defined"
     ]
    }
   ],
   "source": [
    "batch_id = send_batch_embedding(requests, \"test1.jsonl\")\n",
    "batch_id"
   ]
  },
  {
   "cell_type": "code",
   "execution_count": 19,
   "metadata": {},
   "outputs": [
    {
     "data": {
      "text/plain": [
       "'file-OCcc9NV3Y58VgPeNjODehWEz'"
      ]
     },
     "execution_count": 19,
     "metadata": {},
     "output_type": "execute_result"
    }
   ],
   "source": [
    "# get_status(batch_id)\n"
   ]
  },
  {
   "cell_type": "code",
   "execution_count": 18,
   "metadata": {},
   "outputs": [
    {
     "name": "stdout",
     "output_type": "stream",
     "text": [
      "completed\n"
     ]
    }
   ],
   "source": [
    "get_status(batch_id)"
   ]
  },
  {
   "cell_type": "code",
   "execution_count": 20,
   "metadata": {},
   "outputs": [],
   "source": [
    "get_batch_result(client.batches.retrieve(batch_id).output_file_id, \"test1_output.jsonl\")"
   ]
  }
 ],
 "metadata": {
  "kernelspec": {
   "display_name": "Python 3",
   "language": "python",
   "name": "python3"
  },
  "language_info": {
   "codemirror_mode": {
    "name": "ipython",
    "version": 3
   },
   "file_extension": ".py",
   "mimetype": "text/x-python",
   "name": "python",
   "nbconvert_exporter": "python",
   "pygments_lexer": "ipython3",
   "version": "3.11.9"
  }
 },
 "nbformat": 4,
 "nbformat_minor": 2
}
