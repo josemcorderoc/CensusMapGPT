{
 "cells": [
  {
   "cell_type": "code",
   "execution_count": 18,
   "metadata": {},
   "outputs": [
    {
     "name": "stdout",
     "output_type": "stream",
     "text": [
      "The autoreload extension is already loaded. To reload it, use:\n",
      "  %reload_ext autoreload\n"
     ]
    }
   ],
   "source": [
    "%load_ext autoreload\n",
    "%autoreload 2"
   ]
  },
  {
   "cell_type": "code",
   "execution_count": 19,
   "metadata": {},
   "outputs": [
    {
     "name": "stderr",
     "output_type": "stream",
     "text": [
      "/Users/jm/Code/mapgpt-mvp/.conda/lib/python3.11/site-packages/geopandas/io/sql.py:185: UserWarning: pandas only supports SQLAlchemy connectable (engine/connection) or database string URI or sqlite3 DBAPI2 connection. Other DBAPI2 objects are not tested. Please consider using SQLAlchemy.\n",
      "  df = pd.read_sql(\n",
      "/Users/jm/Code/mapgpt-mvp/.conda/lib/python3.11/site-packages/geopandas/io/sql.py:473: UserWarning: pandas only supports SQLAlchemy connectable (engine/connection) or database string URI or sqlite3 DBAPI2 connection. Other DBAPI2 objects are not tested. Please consider using SQLAlchemy.\n",
      "  return pd.read_sql(spatial_ref_sys_sql, con)\n",
      "/var/folders/8j/bf4mjlj94czf88p79v8gb24w0000gp/T/ipykernel_73220/2151933016.py:45: UserWarning: Geometry is in a geographic CRS. Results from 'centroid' are likely incorrect. Use 'GeoSeries.to_crs()' to re-project geometries to a projected CRS before this operation.\n",
      "\n",
      "  lat = comunas.geom.centroid.y,\n",
      "/var/folders/8j/bf4mjlj94czf88p79v8gb24w0000gp/T/ipykernel_73220/2151933016.py:46: UserWarning: Geometry is in a geographic CRS. Results from 'centroid' are likely incorrect. Use 'GeoSeries.to_crs()' to re-project geometries to a projected CRS before this operation.\n",
      "\n",
      "  lon = comunas.geom.centroid.x,\n",
      "/var/folders/8j/bf4mjlj94czf88p79v8gb24w0000gp/T/ipykernel_73220/2151933016.py:35: ShapelyDeprecationWarning: The 'type' attribute is deprecated, and will be removed in the future. You can use the 'geom_type' attribute instead.\n",
      "  if geom.type == 'Polygon':\n",
      "/var/folders/8j/bf4mjlj94czf88p79v8gb24w0000gp/T/ipykernel_73220/2151933016.py:37: ShapelyDeprecationWarning: The 'type' attribute is deprecated, and will be removed in the future. You can use the 'geom_type' attribute instead.\n",
      "  elif geom.type == 'MultiPolygon':\n"
     ]
    }
   ],
   "source": [
    "\n",
    "\n",
    "import numpy as np\n",
    "import pandas as pd\n",
    "from shapely.geometry import Polygon\n",
    "import geopandas as gpd\n",
    "import pyproj\n",
    "pyproj.datadir.set_data_dir('/Users/jm/Code/mapgpt-mvp/.conda/share/proj')\n",
    "import matplotlib.pyplot as plt\n",
    "import os\n",
    "import sys\n",
    "from dotenv import load_dotenv\n",
    "import pandas as pd\n",
    "import pydeck as pdk\n",
    "from IPython.display import display\n",
    "sys.path.append('../src')\n",
    "\n",
    "from infrastructure.gpt4 import GPT4\n",
    "from infrastructure.postgres_db import PostgresDB\n",
    "from application.maps.choropleth_map import ChoroplethMap\n",
    "import plotly.graph_objects as go\n",
    "from infrastructure.gpt4 import generate_openai_embedding_request\n",
    "\n",
    "\n",
    "load_dotenv()\n",
    "\n",
    "db_name = os.environ.get(\"DB_NAME\")\n",
    "db_user = os.environ.get(\"DB_USER\")\n",
    "db_password = os.environ.get(\"DB_PASSWORD\")\n",
    "\n",
    "\n",
    "db = PostgresDB(db_name=db_name, db_user=db_user, db_password=db_password)\n",
    "comunas = db.run_gpd_query(\"SELECT * FROM comuna\")\n",
    "\n",
    "# Function to extract coordinates\n",
    "def get_polygon_coordinates(geom):\n",
    "    if geom.type == 'Polygon':\n",
    "        return [(x, y) for x, y in geom.exterior.coords]\n",
    "    elif geom.type == 'MultiPolygon':\n",
    "        return [[(x, y) for x, y in polygon.exterior.coords] for polygon in geom.geoms][0]\n",
    "    else:\n",
    "        return None\n",
    "\n",
    "comunas = comunas.to_crs(epsg=4326)\n",
    "np.random.seed(9)\n",
    "comunas = comunas.assign(\n",
    "    lat = comunas.geom.centroid.y,\n",
    "    lon = comunas.geom.centroid.x,\n",
    "    coordinates = comunas.geom.apply(lambda geom: [list(coord) for coord in geom.geoms[0].exterior.coords]),\n",
    "    coordinates2 = comunas.geom.apply(get_polygon_coordinates),\n",
    "    score=lambda _df: np.random.randint(0, 101, size=len(_df)),\n",
    "    score1=lambda _df: np.random.randint(0, 101, size=len(_df)),\n",
    "    score2=lambda _df: np.random.randint(0, 101, size=len(_df)),\n",
    "    score3=lambda _df: np.random.randint(0, 101, size=len(_df)),\n",
    "    # geom = comunas.geom.simplify(10, preserve_topology=True)\n",
    "\n",
    "\n",
    "    \n",
    ")\n",
    "# comunas.geom = comunas.geom.simplify(10, preserve_topology=True)\n",
    "comunas = comunas.to_crs(epsg=3857)\n",
    "c = comunas.set_index(\"codigo\").head(10)\n",
    "c.geom = c.geom.simplify(10, preserve_topology=True)\n",
    "d = comunas.set_index(\"codigo\").tail(10)\n",
    "d.geom = d.geom.simplify(10, preserve_topology=True)\n"
   ]
  },
  {
   "cell_type": "code",
   "execution_count": 20,
   "metadata": {},
   "outputs": [
    {
     "ename": "NameError",
     "evalue": "name 'emb_openai_small' is not defined",
     "output_type": "error",
     "traceback": [
      "\u001b[0;31m---------------------------------------------------------------------------\u001b[0m",
      "\u001b[0;31mNameError\u001b[0m                                 Traceback (most recent call last)",
      "Cell \u001b[0;32mIn[20], line 5\u001b[0m\n\u001b[1;32m      1\u001b[0m \u001b[38;5;66;03m# query = f\"\"\"SELECT nombre \u001b[39;00m\n\u001b[1;32m      2\u001b[0m \u001b[38;5;66;03m#        FROM candidatos \u001b[39;00m\n\u001b[1;32m      3\u001b[0m \u001b[38;5;66;03m#        ORDER BY {order_by} <=> '{embedding_str}' LIMIT 1;\"\"\"\u001b[39;00m\n\u001b[0;32m----> 5\u001b[0m \u001b[43memb_openai_small\u001b[49m\n\u001b[1;32m      8\u001b[0m \u001b[38;5;241m1536\u001b[39m\n",
      "\u001b[0;31mNameError\u001b[0m: name 'emb_openai_small' is not defined"
     ]
    }
   ],
   "source": [
    "# query = f\"\"\"SELECT nombre \n",
    "#        FROM candidatos \n",
    "#        ORDER BY {order_by} <=> '{embedding_str}' LIMIT 1;\"\"\"\n",
    "\n",
    "emb_openai_small\n",
    "\n",
    "\n",
    "1536"
   ]
  },
  {
   "cell_type": "code",
   "execution_count": 17,
   "metadata": {},
   "outputs": [
    {
     "name": "stdout",
     "output_type": "stream",
     "text": [
      "SELECT *\n",
      "FROM candidatos\n",
      "WHERE nombre = 'Jorge Sharp'\n"
     ]
    }
   ],
   "source": [
    "print()"
   ]
  },
  {
   "cell_type": "code",
   "execution_count": 15,
   "metadata": {},
   "outputs": [],
   "source": [
    "gpt4 = GPT4()"
   ]
  },
  {
   "cell_type": "code",
   "execution_count": null,
   "metadata": {},
   "outputs": [],
   "source": [
    "gpt4.send_batch_embedding()"
   ]
  },
  {
   "cell_type": "markdown",
   "metadata": {},
   "source": [
    "# Candidatos"
   ]
  },
  {
   "cell_type": "code",
   "execution_count": 17,
   "metadata": {},
   "outputs": [],
   "source": [
    "nombres = pd.read_sql(\"SELECT DISTINCT nombre FROM candidato\", con=db.engine)[\"nombre\"]"
   ]
  },
  {
   "cell_type": "markdown",
   "metadata": {},
   "source": [
    "# Generate embeddings"
   ]
  },
  {
   "cell_type": "code",
   "execution_count": 21,
   "metadata": {},
   "outputs": [],
   "source": [
    "requests = [generate_openai_embedding_request(i, text) for i, text in enumerate(nombres)]\n",
    "\n",
    "batch_id = gpt4.send_batch_embedding(requests, \"batch_embedding__candidato_nombre.jsonl\")"
   ]
  },
  {
   "cell_type": "code",
   "execution_count": 36,
   "metadata": {},
   "outputs": [
    {
     "data": {
      "text/plain": [
       "'batch_AjTQEw9RRt4KpmwTOpAVgqtt'"
      ]
     },
     "execution_count": 36,
     "metadata": {},
     "output_type": "execute_result"
    }
   ],
   "source": [
    "batch_id"
   ]
  },
  {
   "cell_type": "code",
   "execution_count": 41,
   "metadata": {},
   "outputs": [
    {
     "name": "stdout",
     "output_type": "stream",
     "text": [
      "Collecting tiktoken\n",
      "  Downloading tiktoken-0.7.0-cp311-cp311-macosx_11_0_arm64.whl.metadata (6.6 kB)\n",
      "Collecting regex>=2022.1.18 (from tiktoken)\n",
      "  Downloading regex-2024.7.24-cp311-cp311-macosx_11_0_arm64.whl.metadata (40 kB)\n",
      "\u001b[2K     \u001b[90m━━━━━━━━━━━━━━━━━━━━━━━━━━━━━━━━━━━━━━━━\u001b[0m \u001b[32m40.5/40.5 kB\u001b[0m \u001b[31m1.5 MB/s\u001b[0m eta \u001b[36m0:00:00\u001b[0m\n",
      "\u001b[?25hRequirement already satisfied: requests>=2.26.0 in /Users/jm/Code/mapgpt-mvp/.conda/lib/python3.11/site-packages (from tiktoken) (2.32.3)\n",
      "Requirement already satisfied: charset-normalizer<4,>=2 in /Users/jm/Code/mapgpt-mvp/.conda/lib/python3.11/site-packages (from requests>=2.26.0->tiktoken) (3.3.2)\n",
      "Requirement already satisfied: idna<4,>=2.5 in /Users/jm/Code/mapgpt-mvp/.conda/lib/python3.11/site-packages (from requests>=2.26.0->tiktoken) (3.7)\n",
      "Requirement already satisfied: urllib3<3,>=1.21.1 in /Users/jm/Code/mapgpt-mvp/.conda/lib/python3.11/site-packages (from requests>=2.26.0->tiktoken) (2.2.2)\n",
      "Requirement already satisfied: certifi>=2017.4.17 in /Users/jm/Code/mapgpt-mvp/.conda/lib/python3.11/site-packages (from requests>=2.26.0->tiktoken) (2024.7.4)\n",
      "Downloading tiktoken-0.7.0-cp311-cp311-macosx_11_0_arm64.whl (907 kB)\n",
      "\u001b[2K   \u001b[90m━━━━━━━━━━━━━━━━━━━━━━━━━━━━━━━━━━━━━━━━\u001b[0m \u001b[32m907.0/907.0 kB\u001b[0m \u001b[31m11.6 MB/s\u001b[0m eta \u001b[36m0:00:00\u001b[0m00:01\u001b[0m0:01\u001b[0m\n",
      "\u001b[?25hDownloading regex-2024.7.24-cp311-cp311-macosx_11_0_arm64.whl (278 kB)\n",
      "\u001b[2K   \u001b[90m━━━━━━━━━━━━━━━━━━━━━━━━━━━━━━━━━━━━━━━━\u001b[0m \u001b[32m278.9/278.9 kB\u001b[0m \u001b[31m3.1 MB/s\u001b[0m eta \u001b[36m0:00:00\u001b[0m:00:01\u001b[0m\n",
      "\u001b[?25hInstalling collected packages: regex, tiktoken\n",
      "Successfully installed regex-2024.7.24 tiktoken-0.7.0\n",
      "Note: you may need to restart the kernel to use updated packages.\n"
     ]
    }
   ],
   "source": [
    "pip install tiktoken"
   ]
  },
  {
   "cell_type": "code",
   "execution_count": 42,
   "metadata": {},
   "outputs": [],
   "source": [
    "import tiktoken\n",
    "enc = tiktoken.get_encoding(\"o200k_base\")\n",
    "assert enc.decode(enc.encode(\"hello world\")) == \"hello world\"\n",
    "\n",
    "# To get the tokeniser corresponding to a specific model in the OpenAI API:\n",
    "enc = tiktoken.encoding_for_model(\"gpt-4o\")"
   ]
  },
  {
   "cell_type": "code",
   "execution_count": 53,
   "metadata": {},
   "outputs": [
    {
     "data": {
      "text/plain": [
       "0                Juan Fidel Troncoso Sandoval\n",
       "1                      Agustina Salazar Rozas\n",
       "2                       Gonzalo Cataldo Tello\n",
       "3        Jessica Del Carmen Oyanedel Oyanedel\n",
       "4              Freddy Luis Fuentealba Sanzana\n",
       "                         ...                 \n",
       "41100             Alexis Rodrigo Wood Escobar\n",
       "41101       Nancy Eugenia Valenzuela Sanhueza\n",
       "41102         Francisco Javier Briceño Zuñiga\n",
       "41103                 Marisol Turres Figueroa\n",
       "41104            Carlos Antonio Videla Castro\n",
       "Name: nombre, Length: 41105, dtype: object"
      ]
     },
     "execution_count": 53,
     "metadata": {},
     "output_type": "execute_result"
    }
   ],
   "source": [
    "nombres.dropna"
   ]
  },
  {
   "cell_type": "code",
   "execution_count": 58,
   "metadata": {},
   "outputs": [
    {
     "data": {
      "text/plain": [
       "np.float64(0.00281912)"
      ]
     },
     "execution_count": 58,
     "metadata": {},
     "output_type": "execute_result"
    }
   ],
   "source": [
    "nombres.dropna().apply(enc.encode).apply(len).sum() * 1e-8"
   ]
  },
  {
   "cell_type": "code",
   "execution_count": 57,
   "metadata": {},
   "outputs": [
    {
     "data": {
      "text/plain": [
       "1e-08"
      ]
     },
     "execution_count": 57,
     "metadata": {},
     "output_type": "execute_result"
    }
   ],
   "source": [
    "1e-8"
   ]
  },
  {
   "cell_type": "code",
   "execution_count": 8,
   "metadata": {},
   "outputs": [
    {
     "data": {
      "text/plain": [
       "'Gabriel Boric Font'"
      ]
     },
     "execution_count": 8,
     "metadata": {},
     "output_type": "execute_result"
    }
   ],
   "source": [
    "# db.get_most_similar_levenstein(\"candidato\", \"nombre\", \"gabriel boric\")\n",
    "\n",
    "column = \"nombre\"\n",
    "table = \"candidato\"\n",
    "pd.read_sql(f\"\"\"SELECT {column} \n",
    "            FROM {table} \n",
    "            ORDER BY levenshtein({column}, %s) \n",
    "            LIMIT 1;\"\"\", con=db.engine, params=(\"gabriel boricc\",))[column].iloc[0]"
   ]
  },
  {
   "cell_type": "code",
   "execution_count": null,
   "metadata": {},
   "outputs": [],
   "source": []
  },
  {
   "cell_type": "code",
   "execution_count": 39,
   "metadata": {},
   "outputs": [
    {
     "data": {
      "text/plain": [
       "'in_progress'"
      ]
     },
     "execution_count": 39,
     "metadata": {},
     "output_type": "execute_result"
    }
   ],
   "source": [
    "gpt4.get_batch(batch_id).status"
   ]
  },
  {
   "cell_type": "code",
   "execution_count": null,
   "metadata": {},
   "outputs": [],
   "source": [
    "# content = self.client.files.content(output_file_id)\n",
    "# content.write_to_file(output_path)"
   ]
  },
  {
   "cell_type": "code",
   "execution_count": null,
   "metadata": {},
   "outputs": [],
   "source": [
    "gpt4.get_batch_result(1, \"batch_embedding__candidato_nombre_result.jsonl\")"
   ]
  },
  {
   "cell_type": "markdown",
   "metadata": {},
   "source": [
    "# Save embeddings"
   ]
  },
  {
   "cell_type": "code",
   "execution_count": null,
   "metadata": {},
   "outputs": [],
   "source": [
    "suffix = \"emb_openai_small\"\n",
    "table = \"candidato\"\n",
    "column = \"nombre\"\n",
    "embedding_column = f\"{column}_{suffix}\"\n",
    "\n",
    "\n",
    "embedding_str = json.dumps(text_embedding)\n",
    "with db.conn.cursor() as cur:\n",
    "    for nombre in nombres:\n",
    "        update_query = f\"UPDATE {table} SET {embedding_column} = %s WHERE nombre = %s\"\n",
    "        cur.execute(update_query, (value, row_id))\n",
    "\n",
    "        # Commit the changes to the database\n",
    "    db.conn.commit()\n",
    "\n",
    "        # Close the cursor and the connection\n",
    "        cur.close()\n",
    "        conn.close()\n"
   ]
  },
  {
   "cell_type": "code",
   "execution_count": 9,
   "metadata": {},
   "outputs": [
    {
     "name": "stdout",
     "output_type": "stream",
     "text": [
      "SELECT v.votos,\n",
      "       c.nombre AS candidato_nombre,\n",
      "       m.nombre AS mesa_nombre,\n",
      "       cm.nombre AS comuna_nombre,\n",
      "       e.nombre AS eleccion_nombre,\n",
      "       e.fecha AS eleccion_fecha,\n",
      "       geom\n",
      "FROM votos_mesa AS v\n",
      "JOIN candidatura AS cd ON v.candidatura_id = cd.id\n",
      "JOIN candidato AS c ON cd.candidato_id = c.id\n",
      "JOIN mesa AS m ON v.mesa_id = m.id\n",
      "JOIN comuna AS cm ON m.comuna_id = cm.id\n",
      "JOIN eleccion AS e ON cd.eleccion_id = e.id\n",
      "WHERE c.nombre = 'Gabriel Boric Font'\n",
      "  AND e.nombre = 'Presidencial 2021 Primera Vuelta'\n",
      "  AND cm.nombre = 'Paredones'\n"
     ]
    }
   ],
   "source": [
    "from application.services.sql_utils import to_geospatial_query\n",
    "from sqlparse import format\n",
    "\n",
    "query = \"\"\"\n",
    "SELECT v.votos, c.nombre AS candidato_nombre, m.nombre \n",
    "AS mesa_nombre, cm.nombre AS comuna_nombre, \n",
    "e.nombre AS eleccion_nombre, e.fecha AS eleccion_fecha \n",
    "FROM votos_mesa AS v JOIN candidatura AS cd \n",
    "ON v.candidatura_id = cd.id JOIN candidato AS c \n",
    "ON cd.candidato_id = c.id JOIN mesa AS m ON v.mesa_id = m.id \n",
    "JOIN comuna AS cm ON m.comuna_id = cm.id \n",
    "JOIN eleccion AS e ON cd.eleccion_id = e.id \n",
    "WHERE c.nombre = 'Gabriel Boric Font' \n",
    "AND e.nombre = 'Presidencial 2021 Primera Vuelta' \n",
    "AND cm.nombre = 'Paredones'\n",
    "\"\"\"\n",
    "\n",
    "# to_geospatial_query(query, {\"comuna\": \"geom\"})\n",
    "\n",
    "formatted_query = format(to_geospatial_query(query, {\"comuna\": \"geom\"}), reindent=True, keyword_case='upper')\n",
    "print(formatted_query)"
   ]
  },
  {
   "cell_type": "code",
   "execution_count": 7,
   "metadata": {},
   "outputs": [
    {
     "data": {
      "text/plain": [
       "[]"
      ]
     },
     "execution_count": 7,
     "metadata": {},
     "output_type": "execute_result"
    }
   ],
   "source": [
    "from bidict import bidict\n",
    "from sqlglot import parse_one, exp\n",
    "\n",
    "\n",
    "parsed_query = parse_one(query)\n",
    "table_alias = bidict({t.alias:t.name for t in parsed_query.find_all(exp.Table)})\n",
    "table_names = [t.name for t in parsed_query.find_all(exp.Table)]\n",
    "geospatial_columns =  {\"comuna\": \"geom\"}\n",
    "if parsed_query is None:\n",
    "    raise ValueError(f\"Query {query} could not be parsed.\")\n",
    "\n",
    "for col in geospatial_columns:\n",
    "    if col not in table_names:\n",
    "        raise ValueError(f\"Geotable {col} not found in query.\")\n",
    "\n",
    "\n",
    "select = parsed_query.find(exp.Select)\n",
    "group_by = parsed_query.find(exp.Group)\n",
    "\n",
    "if select is None:\n",
    "    raise ValueError(f\"Query {query} does not contain a SELECT clause.\")\n",
    "\n",
    "# if select contains comuna, add geom\n",
    "geospatial_exp = [e for e in select.expressions if type(e) == exp.Column and table_alias[e.table] in geospatial_columns.keys()]\n",
    "geospatial_exp"
   ]
  },
  {
   "cell_type": "code",
   "execution_count": null,
   "metadata": {},
   "outputs": [],
   "source": [
    "data  = db.run_gpd_query()"
   ]
  },
  {
   "cell_type": "code",
   "execution_count": 21,
   "metadata": {},
   "outputs": [
    {
     "name": "stdout",
     "output_type": "stream",
     "text": [
      "CREATE TABLE votos_mesa (\n",
      "  id integer NOT NULL,\n",
      "  mesa_id integer,\n",
      "  candidatura_id integer,\n",
      "  votos integer\n",
      ");\n",
      "CREATE TABLE mesa (\n",
      "  id integer NOT NULL,\n",
      "  comuna_id integer,\n",
      "  nombre text,\n",
      "  nombre_local text,\n",
      "  nombre_circunscripcion_electoral text\n",
      ");\n",
      "CREATE TABLE eleccion (\n",
      "  id integer NOT NULL,\n",
      "  tipo_eleccion_id integer,\n",
      "  fecha date,\n",
      "  nombre text\n",
      ");\n",
      "CREATE TABLE pacto (\n",
      "  id integer NOT NULL,\n",
      "  nombre text,\n",
      "  codigo text\n",
      ");\n",
      "CREATE TABLE partido (\n",
      "  id integer NOT NULL,\n",
      "  nombre text\n",
      ");\n",
      "CREATE TABLE region (\n",
      "  id integer NOT NULL,\n",
      "  codigo integer,\n",
      "  nombre text\n",
      ");\n",
      "CREATE TABLE subpacto (\n",
      "  id integer NOT NULL,\n",
      "  nombre text\n",
      ");\n",
      "CREATE TABLE tipo_eleccion (\n",
      "  id integer NOT NULL,\n",
      "  nombre text\n",
      ");\n",
      "CREATE TABLE candidatura (\n",
      "  id integer NOT NULL,\n",
      "  candidato_id integer,\n",
      "  eleccion_id integer,\n",
      "  partido_id integer,\n",
      "  pacto_id integer,\n",
      "  subpacto_id integer,\n",
      "  num_en_papeleta integer,\n",
      "  independiente boolean\n",
      ");\n",
      "CREATE TABLE candidato (\n",
      "  id integer NOT NULL,\n",
      "  nombre__emb_openai_small USER-DEFINED,\n",
      "  nombre text\n",
      ");\n",
      "CREATE TABLE geography_columns (\n",
      "  coord_dimension integer,\n",
      "  srid integer,\n",
      "  type text,\n",
      "  f_table_catalog name,\n",
      "  f_geography_column name,\n",
      "  f_table_schema name,\n",
      "  f_table_name name\n",
      ");\n",
      "CREATE TABLE geometry_columns (\n",
      "  coord_dimension integer,\n",
      "  srid integer,\n",
      "  type character varying(30),\n",
      "  f_table_catalog character varying(256),\n",
      "  f_geometry_column name,\n",
      "  f_table_schema name,\n",
      "  f_table_name name\n",
      ");\n",
      "CREATE TABLE spatial_ref_sys (\n",
      "  srid integer NOT NULL,\n",
      "  auth_srid integer,\n",
      "  auth_name character varying(256),\n",
      "  srtext character varying(2048),\n",
      "  proj4text character varying(2048)\n",
      ");\n",
      "CREATE TABLE comuna (\n",
      "  id integer NOT NULL,\n",
      "  codigo integer,\n",
      "  region_id integer,\n",
      "  geom USER-DEFINED,\n",
      "  nombre text\n",
      ");\n"
     ]
    }
   ],
   "source": [
    "print(db.get_schema())"
   ]
  },
  {
   "cell_type": "code",
   "execution_count": null,
   "metadata": {},
   "outputs": [],
   "source": [
    "cm = ChoroplethMap()"
   ]
  }
 ],
 "metadata": {
  "kernelspec": {
   "display_name": "Python 3",
   "language": "python",
   "name": "python3"
  },
  "language_info": {
   "codemirror_mode": {
    "name": "ipython",
    "version": 3
   },
   "file_extension": ".py",
   "mimetype": "text/x-python",
   "name": "python",
   "nbconvert_exporter": "python",
   "pygments_lexer": "ipython3",
   "version": "3.11.9"
  }
 },
 "nbformat": 4,
 "nbformat_minor": 2
}
