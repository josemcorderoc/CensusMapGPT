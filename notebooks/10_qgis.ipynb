{
 "cells": [
  {
   "cell_type": "code",
   "execution_count": 2,
   "metadata": {},
   "outputs": [],
   "source": [
    "import os\n",
    "import sys\n",
    "\n",
    "# For Windows\n",
    "sys.path.append('/Applications/QGis.app/Contents/Resources/python/')\n",
    "sys.path.append('/Applications/QGis.app/Contents/Resources/python/plugins') # if you want to use the processing module, for example\n",
    "\n",
    "# For Unix-based systems\n",
    "# QGIS_PREFIX_PATH = \"/usr/local\"  # Update this path\n",
    "# QGIS_PYTHON_PATH = os.path.join(QGIS_PREFIX_PATH, 'share/qgis/python')\n",
    "\n",
    "# Add QGIS Python path to system path\n",
    "\n",
    "from qgis.core import (\n",
    "    QgsProject,\n",
    "    QgsVectorLayer,\n",
    "    QgsSvgMarkerSymbolLayer,\n",
    "    QgsSimpleMarkerSymbolLayer,\n",
    "    QgsMarkerSymbol,\n",
    "    QgsRendererCategory,\n",
    "    QgsCategorizedSymbolRenderer,\n",
    "    QgsPalLayerSettings,\n",
    "    QgsTextFormat,\n",
    "    QgsVectorLayerSimpleLabeling,\n",
    "    QgsDiagramRenderer,\n",
    "    QgsPieDiagram\n",
    ")"
   ]
  },
  {
   "cell_type": "code",
   "execution_count": null,
   "metadata": {},
   "outputs": [],
   "source": [
    "QgsPieDiagram."
   ]
  },
  {
   "cell_type": "code",
   "execution_count": 1,
   "metadata": {},
   "outputs": [
    {
     "ename": "TypeError",
     "evalue": "qgis._core.QgsDiagramRenderer represents a C++ abstract class and cannot be instantiated",
     "output_type": "error",
     "traceback": [
      "\u001b[0;31m---------------------------------------------------------------------------\u001b[0m",
      "\u001b[0;31mTypeError\u001b[0m                                 Traceback (most recent call last)",
      "Cell \u001b[0;32mIn[1], line 58\u001b[0m\n\u001b[1;32m     49\u001b[0m diagram \u001b[38;5;241m=\u001b[39m QgsPieDiagram()\n\u001b[1;32m     50\u001b[0m \u001b[38;5;66;03m# diagram.setStartAngleDegrees(0)\u001b[39;00m\n\u001b[1;32m     51\u001b[0m \u001b[38;5;66;03m# diagram.setAttributes(attributes)\u001b[39;00m\n\u001b[1;32m     52\u001b[0m \u001b[38;5;66;03m# Set colors for the pie chart slices\u001b[39;00m\n\u001b[0;32m   (...)\u001b[0m\n\u001b[1;32m     56\u001b[0m \n\u001b[1;32m     57\u001b[0m \u001b[38;5;66;03m# Create a diagram renderer and set the diagram\u001b[39;00m\n\u001b[0;32m---> 58\u001b[0m diagram_renderer \u001b[38;5;241m=\u001b[39m \u001b[43mQgsDiagramRenderer\u001b[49m\u001b[43m(\u001b[49m\u001b[43m)\u001b[49m\n\u001b[1;32m     59\u001b[0m diagram_renderer\u001b[38;5;241m.\u001b[39msetDiagram(diagram)\n\u001b[1;32m     61\u001b[0m \u001b[38;5;66;03m# Apply the diagram renderer to the layer\u001b[39;00m\n",
      "\u001b[0;31mTypeError\u001b[0m: qgis._core.QgsDiagramRenderer represents a C++ abstract class and cannot be instantiated"
     ]
    }
   ],
   "source": [
    "import os\n",
    "import sys\n",
    "\n",
    "# Define the paths to the QGIS installation. Update these paths according to your QGIS installation.\n",
    "\n",
    "# For Windows\n",
    "# QGIS_PREFIX_PATH = r\"C:\\Program Files\\QGIS 3.24.3\"  # Update this path\n",
    "# QGIS_PYTHON_PATH = os.path.join(QGIS_PREFIX_PATH, 'apps', 'qgis', 'python')\n",
    "\n",
    "# # For Unix-based systems\n",
    "# QGIS_PREFIX_PATH = \"/usr/local\"  # Update this path\n",
    "# QGIS_PYTHON_PATH = os.path.join(QGIS_PREFIX_PATH, 'share/qgis/python')\n",
    "\n",
    "# # Add QGIS Python path to system path\n",
    "# sys.path.append(QGIS_PYTHON_PATH)\n",
    "\n",
    "# Set environment variables for Windows\n",
    "# os.environ['QT_QPA_PLATFORM_PLUGIN_PATH'] = os.path.join(QGIS_PREFIX_PATH, 'apps', 'Qt5', 'plugins')\n",
    "# os.environ['PATH'] += os.pathsep + os.path.join(QGIS_PREFIX_PATH, 'apps', 'qgis', 'bin')\n",
    "# os.environ['PATH'] += os.pathsep + os.path.join(QGIS_PREFIX_PATH, 'apps', 'Qt5', 'bin')\n",
    "# os.environ['PATH'] += os.pathsep + os.path.join(QGIS_PREFIX_PATH, 'apps', 'Python39', 'Scripts')\n",
    "# os.environ['PYTHONHOME'] = os.path.join(QGIS_PREFIX_PATH, 'apps', 'Python39')\n",
    "\n",
    "# Set environment variables for Unix-based systems\n",
    "# os.environ['QT_QPA_PLATFORM_PLUGIN_PATH'] = os.path.join(QGIS_PREFIX_PATH, 'plugins')\n",
    "# os.environ['PATH'] += os.pathsep + os.path.join(QGIS_PREFIX_PATH, 'bin')\n",
    "# os.environ['PYTHONHOME'] = os.path.join(QGIS_PREFIX_PATH, 'python')\n",
    "\n",
    "# Initialize QGIS Application\n",
    "from qgis.core import QgsApplication, QgsProject, QgsVectorLayer, QgsDiagram, QgsDiagramRenderer, QgsPieDiagram\n",
    "from PyQt5.QtGui import QColor\n",
    "\n",
    "qgs = QgsApplication([], False)\n",
    "qgs.initQgis()\n",
    "\n",
    "# Check if the environment setup is correct\n",
    "# print(\"QGIS Python Path:\", QGIS_PYTHON_PATH)\n",
    "# print(\"QGIS Prefix Path:\", QGIS_PREFIX_PATH)\n",
    "# print(\"PATH:\", os.environ['PATH'])\n",
    "# print(\"QT_QPA_PLATFORM_PLUGIN_PATH:\", os.environ['QT_QPA_PLATFORM_PLUGIN_PATH'])\n",
    "# print(\"PYTHONHOME:\", os.environ['PYTHONHOME'])\n",
    "\n",
    "# Rest of your QGIS-related code here\n",
    "\n",
    "# Example to load a vector layer\n",
    "layer_path = \"/Users/jm/Library/Mobile Documents/com~apple~CloudDocs/Proyectos/Portugal/Mestrado/DataMining/Projecto/Classificação Não Supervisionada/Classificacao GeoDemografica/Lx/lisboa.shp\"\n",
    "layer = QgsVectorLayer(layer_path, \"My Layer\", \"ogr\")\n",
    "\n",
    "diagram = QgsPieDiagram()\n",
    "# diagram.setStartAngleDegrees(0)\n",
    "# diagram.setAttributes(attributes)\n",
    "# Set colors for the pie chart slices\n",
    "# colors = [QColor(\"red\"), QColor(\"green\")]\n",
    "# for color in colors:\n",
    "#     diagram.addColor(color)\n",
    "\n",
    "# Create a diagram renderer and set the diagram\n",
    "diagram_renderer = QgsDiagramRenderer()\n",
    "diagram_renderer.setDiagram(diagram)\n",
    "\n",
    "# Apply the diagram renderer to the layer\n",
    "layer.setDiagramRenderer(diagram_renderer)\n",
    "\n",
    "# Refresh the layer to apply changes\n",
    "layer.triggerRepaint()\n",
    "\n",
    "# Save the project (optional)\n",
    "project_path = \"project.qgz\"\n",
    "QgsProject.instance().write(project_path)\n",
    "\n",
    "# Exit QGIS Application\n",
    "qgs.exitQgis()"
   ]
  },
  {
   "cell_type": "code",
   "execution_count": null,
   "metadata": {},
   "outputs": [],
   "source": [
    "diagram."
   ]
  },
  {
   "cell_type": "code",
   "execution_count": 2,
   "metadata": {},
   "outputs": [],
   "source": [
    "from qgis.core import QgsProject, QgsVectorLayer\n",
    "\n",
    "# Load the shapefile\n",
    "layer_path = \"/Users/jm/Library/Mobile Documents/com~apple~CloudDocs/Proyectos/Portugal/Mestrado/DataMining/Projecto/Classificação Não Supervisionada/Classificacao GeoDemografica/Lx/lisboa.shp\"\n",
    "\n",
    "layer = QgsVectorLayer(layer_path, 'Layer Name', 'ogr')\n",
    "\n",
    "# Add the layer to the project\n",
    "if not layer.isValid():\n",
    "    print(\"Layer failed to load!\")\n",
    "else:\n",
    "    QgsProject.instance().addMapLayer(layer)"
   ]
  },
  {
   "cell_type": "code",
   "execution_count": 28,
   "metadata": {},
   "outputs": [],
   "source": [
    "from qgis.core import QgsDiagramSettings, QgsPieDiagram, QgsRenderContext\n",
    "from PyQt5.QtCore import QSizeF\n",
    "# from qgis.gui import QgsDiagramRenderer\n",
    "\n",
    "# Define diagram settings4\n",
    "pie_diagram = QgsPieDiagram()\n",
    "diagram_settings = QgsDiagramSettings()\n",
    "q = QgsRenderContext()\n",
    "pie_diagram.diagramSize([\"HR14_19\", \"HR_15_19\"], q, diagram_settings)\n",
    "# diagram_settings.size = QSizeF(10, 10)  # Size of the diagram\n",
    "\n",
    "\n",
    "# pie_diagram.\n",
    "\n",
    "# Define colors for each segment\n",
    "# colors = [QColor(\"red\"), QColor(\"green\"), QColor(\"blue\")]\n",
    "# for i, color in enumerate(colors):\n",
    "#     # pie_diagram.\n",
    "#     pie_diagram.setAttributeColor(i, color)\n",
    "\n",
    "# Apply the diagram to the layer\n",
    "# diagram_renderer = QgsDiagramRenderer()\n",
    "\n",
    "# # diagram_renderer = QgsPieDiagramRenderer()\n",
    "# diagram_renderer.setDiagram(pie_diagram)\n",
    "# diagram_renderer.setDiagramSettings(diagram_settings)\n",
    "\n",
    "# layer.setDiagramRenderer(diagram_renderer)\n",
    "\n",
    "\n",
    "diagram_layer_settings = QgsDiagramLayerSettings()\n",
    "diagram_layer_settings.d = pie_diagram\n",
    "\n",
    "# diagram_layer_settings.d.setSettings(diagram_settings)\n",
    "\n",
    "# layer.setDiagramRenderer(diagram_renderer)\n",
    "\n",
    "# Refresh the layer to apply the changes\n",
    "layer.triggerRepaint()"
   ]
  },
  {
   "cell_type": "code",
   "execution_count": 21,
   "metadata": {},
   "outputs": [],
   "source": [
    "from qgis.core import (\n",
    "    QgsProject,\n",
    "    QgsVectorLayer,\n",
    "    QgsDiagramSettings,\n",
    "    QgsPieDiagram,\n",
    "    QgsDiagramRenderer,\n",
    "    # QgsDiagramRendererV2,\n",
    "    QgsRenderContext,\n",
    "    QgsDiagramLayerSettings\n",
    ")\n",
    "from qgis.PyQt.QtGui import QColor\n",
    "\n",
    "# Load the shapefile"
   ]
  },
  {
   "cell_type": "code",
   "execution_count": 29,
   "metadata": {},
   "outputs": [
    {
     "name": "stdout",
     "output_type": "stream",
     "text": [
      "Channels:\n",
      " - conda-forge\n",
      "Platform: osx-arm64\n",
      "Collecting package metadata (repodata.json): - "
     ]
    }
   ],
   "source": [
    "conda update --all"
   ]
  },
  {
   "cell_type": "code",
   "execution_count": 15,
   "metadata": {},
   "outputs": [
    {
     "data": {
      "text/plain": [
       "<function QgsPieDiagram.diagramSize>"
      ]
     },
     "execution_count": 15,
     "metadata": {},
     "output_type": "execute_result"
    }
   ],
   "source": [
    "pie_diagram.diagramSize()"
   ]
  }
 ],
 "metadata": {
  "kernelspec": {
   "display_name": "Python 3",
   "language": "python",
   "name": "python3"
  },
  "language_info": {
   "codemirror_mode": {
    "name": "ipython",
    "version": 3
   },
   "file_extension": ".py",
   "mimetype": "text/x-python",
   "name": "python",
   "nbconvert_exporter": "python",
   "pygments_lexer": "ipython3",
   "version": "3.11.9"
  }
 },
 "nbformat": 4,
 "nbformat_minor": 2
}
