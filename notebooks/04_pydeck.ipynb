{
 "cells": [
  {
   "cell_type": "code",
   "execution_count": null,
   "metadata": {},
   "outputs": [],
   "source": [
    "from dotenv import load_dotenv\n",
    "import pandas as pd\n",
    "import pydeck as pdk\n",
    "\n",
    "load_dotenv()\n",
    "\n",
    "DATA_URL = \"https://raw.githubusercontent.com/ajduberstein/geo_datasets/master/housing.csv\"\n",
    "df = pd.read_csv(DATA_URL)\n",
    "\n",
    "view = pdk.data_utils.compute_view(df[[\"lng\", \"lat\"]])\n",
    "view.pitch = 75\n",
    "view.bearing = 60\n",
    "\n",
    "column_layer = pdk.Layer(\n",
    "    \"ColumnLayer\",\n",
    "    data=df,\n",
    "    get_position=[\"lng\", \"lat\"],\n",
    "    get_elevation=\"price_per_unit_area\",\n",
    "    elevation_scale=100,\n",
    "    radius=50,\n",
    "    get_fill_color=[\"mrt_distance * 10\", \"mrt_distance\", \"mrt_distance * 10\", 140],\n",
    "    pickable=True,\n",
    "    auto_highlight=True,\n",
    "    diskResolution= 4\n",
    ")\n",
    "\n",
    "\n",
    "tooltip = {\n",
    "    \"html\": \"<b>{mrt_distance}</b> meters away from an MRT station, costs <b>{price_per_unit_area}</b> NTD/sqm\",\n",
    "    \"style\": {\"background\": \"grey\", \"color\": \"white\", \"font-family\": '\"Helvetica Neue\", Arial', \"z-index\": \"10000\"},\n",
    "}\n",
    "\n",
    "r = pdk.Deck(\n",
    "    column_layer,\n",
    "    initial_view_state=view,\n",
    "    tooltip=tooltip,\n",
    "    map_provider=\"mapbox\",\n",
    "    map_style=pdk.map_styles.CARTO_DARK_NO_LABELS,\n",
    ")\n",
    "\n",
    "# r.to_html(\"column_layer.html\")\n",
    "r"
   ]
  },
  {
   "cell_type": "code",
   "execution_count": null,
   "metadata": {},
   "outputs": [],
   "source": [
    "df"
   ]
  },
  {
   "cell_type": "code",
   "execution_count": null,
   "metadata": {},
   "outputs": [],
   "source": [
    "import pydeck\n",
    "\n",
    "DATA_URL = \"https://raw.githubusercontent.com/visgl/deck.gl-data/master/examples/geojson/vancouver-blocks.json\"\n",
    "LAND_COVER = [[[-123.0, 49.196], [-123.0, 49.324], [-123.306, 49.324], [-123.306, 49.196]]]\n",
    "\n",
    "coordinates = [[-123.0, 49.196], [-123.0, 49.324], [-123.306, 49.324], [-123.306, 49.196]]\n",
    "names = ['Location A', 'Location B', 'Location C', 'Location D']\n",
    "\n",
    "locations = [{'name': name, 'coordinates': coord} for name, coord in zip(names, coordinates)]\n",
    "\n",
    "\n",
    "INITIAL_VIEW_STATE = pydeck.ViewState(\n",
    "  latitude=49.254,\n",
    "  longitude=-123.13,\n",
    "  zoom=11,\n",
    "  max_zoom=16,\n",
    "  pitch=45,\n",
    "  bearing=0\n",
    ")\n",
    "\n",
    "polygon = pydeck.Layer(\n",
    "    'PolygonLayer',\n",
    "    LAND_COVER,\n",
    "    stroked=False,\n",
    "    get_polygon='-',\n",
    "    get_fill_color=[255, 0, 0, 20]\n",
    ")\n",
    "\n",
    "labels = pydeck.Layer(\n",
    "    'TextLayer',\n",
    "    locations,\n",
    "    get_position=\"coordinates\",\n",
    "    get_text=\"name\",\n",
    "    stroked=False,\n",
    "    get_fill_color=[255, 0, 0, 20],\n",
    "    get_polygon='-',\n",
    ")\n",
    "\n",
    "geojson = pydeck.Layer(\n",
    "    'GeoJsonLayer',\n",
    "    DATA_URL,\n",
    "    opacity=0.8,\n",
    "    stroked=False,\n",
    "    filled=True,\n",
    "    extruded=True,\n",
    "    wireframe=True,\n",
    "    get_elevation='properties.valuePerSqm / 20',\n",
    "    get_fill_color='[255, 255, properties.growth * 255]',\n",
    "    get_line_color=[255, 255, 255],\n",
    "    pickable=True\n",
    ")\n",
    "\n",
    "r = pydeck.Deck(\n",
    "    layers=[labels, polygon],\n",
    "    initial_view_state=INITIAL_VIEW_STATE)\n",
    "\n",
    "r.to_html()"
   ]
  },
  {
   "cell_type": "code",
   "execution_count": null,
   "metadata": {},
   "outputs": [],
   "source": [
    "import os\n",
    "import sys\n",
    "import geopandas as gpd\n",
    "sys.path.append('../src')\n",
    "\n",
    "from infrastructure.postgres_db import PostgresDB\n",
    "db_name = os.environ.get(\"DB_NAME\")\n",
    "db_user = os.environ.get(\"DB_USER\")\n",
    "db_password = os.environ.get(\"DB_PASSWORD\")\n",
    "\n",
    "\n",
    "db = PostgresDB(db_name=db_name, db_user=db_user, db_password=db_password)\n"
   ]
  },
  {
   "cell_type": "code",
   "execution_count": null,
   "metadata": {},
   "outputs": [],
   "source": [
    "comunas.explore()"
   ]
  },
  {
   "cell_type": "code",
   "execution_count": null,
   "metadata": {},
   "outputs": [],
   "source": [
    "comunas.geom.centroid.explore()"
   ]
  },
  {
   "cell_type": "code",
   "execution_count": null,
   "metadata": {},
   "outputs": [],
   "source": [
    "comunas.geom.centroid.coordinates"
   ]
  },
  {
   "cell_type": "code",
   "execution_count": null,
   "metadata": {},
   "outputs": [],
   "source": []
  },
  {
   "cell_type": "code",
   "execution_count": null,
   "metadata": {},
   "outputs": [],
   "source": [
    "comunas = db.run_gpd_query(\"SELECT * FROM comuna\")\n",
    "\n",
    "# Function to extract coordinates\n",
    "def get_polygon_coordinates(geom):\n",
    "    if geom.type == 'Polygon':\n",
    "        return [[(x, y) for x, y in geom.exterior.coords]]\n",
    "    elif geom.type == 'MultiPolygon':\n",
    "        return [[(x, y) for x, y in polygon.exterior.coords] for polygon in geom.geoms]\n",
    "    else:\n",
    "        return None\n",
    "\n",
    "comunas = comunas.to_crs(epsg=4326)\n",
    "\n",
    "comunas = comunas.assign(\n",
    "    lat = comunas.geom.centroid.y,\n",
    "    lon = comunas.geom.centroid.x,\n",
    "    coordinates = comunas.geom.apply(lambda geom: [list(coord) for coord in geom.geoms[0].exterior.coords]),\n",
    "    coordinates2 = comunas.geom.apply(get_polygon_coordinates),\n",
    "    score=1000\n",
    ")\n",
    "\n",
    "# view = pdk.data_utils.compute_view(comunas[[\"lon\", \"lat\"]])\n",
    "# view.pitch = 75\n",
    "# view.bearing = 60\n",
    "\n",
    "column_layer = pdk.Layer(\n",
    "    \"ColumnLayer\",\n",
    "    data=comunas.head(10),\n",
    "    get_position=[\"lon\", \"lat\"],\n",
    "    get_elevation=\"score\",\n",
    "    elevation_scale=100,\n",
    "    radius=5000,\n",
    "    get_fill_color=[255, 0, 0, 255],\n",
    "    pickable=True,\n",
    "    auto_highlight=True,\n",
    "    diskResolution= 4\n",
    ")\n",
    "\n",
    "polygon = pydeck.Layer(\n",
    "    'PolygonLayer',\n",
    "    data=comunas.head(5),\n",
    "    get_polygon=\"coordinates\",\n",
    "    stroked=False,\n",
    "    # get_polygon='-',\n",
    "    get_fill_color=[255, 0, 0, 255],\n",
    "    line_width_min_pixels=1,\n",
    ")\n",
    "\n",
    "# tooltip = {\n",
    "#     \"html\": \"<b>{mrt_distance}</b> meters away from an MRT station, costs <b>{price_per_unit_area}</b> NTD/sqm\",\n",
    "#     \"style\": {\"background\": \"grey\", \"color\": \"white\", \"font-family\": '\"Helvetica Neue\", Arial', \"z-index\": \"10000\"},\n",
    "# }\n",
    "\n",
    "r = pdk.Deck(\n",
    "    layers=[column_layer, polygon],\n",
    "    # initial_view_state=view,\n",
    "    # tooltip=tooltip,\n",
    "    map_provider=\"mapbox\",\n",
    "    map_style=pdk.map_styles.CARTO_LIGHT,\n",
    ")\n",
    "\n",
    "# r.to_html(\"column_layer.html\")\n",
    "r.show()"
   ]
  },
  {
   "cell_type": "code",
   "execution_count": null,
   "metadata": {},
   "outputs": [],
   "source": [
    "column_layer"
   ]
  },
  {
   "cell_type": "code",
   "execution_count": null,
   "metadata": {},
   "outputs": [],
   "source": [
    "list(comunas.geom.iloc[0].geoms[0].exterior.coords)"
   ]
  },
  {
   "cell_type": "code",
   "execution_count": null,
   "metadata": {},
   "outputs": [],
   "source": [
    "comunas"
   ]
  },
  {
   "cell_type": "code",
   "execution_count": null,
   "metadata": {},
   "outputs": [],
   "source": [
    "comunas = comunas.to_crs(epsg=4326).assign(\n",
    "    lat = comunas.geom.centroid.y,\n",
    "    lon = comunas.geom.centroid.x,\n",
    "    coordinates = comunas.geom.apply(lambda geom: [list(coord) for coord in geom.geoms[0].exterior.coords]),\n",
    "    score=10000\n",
    ")"
   ]
  },
  {
   "cell_type": "code",
   "execution_count": null,
   "metadata": {},
   "outputs": [],
   "source": [
    "polygon = pydeck.Layer(\n",
    "    'PolygonLayer',\n",
    "    data=comunas.head(5),\n",
    "    get_polygon=\"coordinates\",\n",
    "    stroked=False,\n",
    "    # get_polygon='-',\n",
    "    get_fill_color=[255, 0, 0, 20],\n",
    "    line_width_min_pixels=1,\n",
    ")\n",
    "\n",
    "polygon"
   ]
  },
  {
   "cell_type": "code",
   "execution_count": null,
   "metadata": {},
   "outputs": [],
   "source": [
    "comunas"
   ]
  },
  {
   "cell_type": "code",
   "execution_count": null,
   "metadata": {},
   "outputs": [],
   "source": [
    "len(comunas.polygon.iloc[0][0])"
   ]
  },
  {
   "cell_type": "code",
   "execution_count": null,
   "metadata": {},
   "outputs": [],
   "source": []
  },
  {
   "cell_type": "code",
   "execution_count": null,
   "metadata": {},
   "outputs": [],
   "source": [
    "comunas.geom.apply(lambda geom: list([a.coords for a in geom.geoms][0]))"
   ]
  },
  {
   "cell_type": "code",
   "execution_count": null,
   "metadata": {},
   "outputs": [],
   "source": [
    "len(list([a for a in comunas.geom.iloc[0].geoms][0].exterior.coords))"
   ]
  },
  {
   "cell_type": "code",
   "execution_count": null,
   "metadata": {},
   "outputs": [],
   "source": [
    "comunas_polycomunas"
   ]
  },
  {
   "cell_type": "code",
   "execution_count": null,
   "metadata": {},
   "outputs": [],
   "source": [
    "comunas.geometry."
   ]
  },
  {
   "cell_type": "code",
   "execution_count": null,
   "metadata": {},
   "outputs": [],
   "source": [
    "comunas.head(5).explore()"
   ]
  },
  {
   "cell_type": "code",
   "execution_count": null,
   "metadata": {},
   "outputs": [],
   "source": [
    "comunas.head(10)"
   ]
  },
  {
   "cell_type": "code",
   "execution_count": null,
   "metadata": {},
   "outputs": [],
   "source": [
    "comunas"
   ]
  },
  {
   "cell_type": "code",
   "execution_count": null,
   "metadata": {},
   "outputs": [],
   "source": [
    "df"
   ]
  },
  {
   "cell_type": "code",
   "execution_count": null,
   "metadata": {},
   "outputs": [],
   "source": [
    "# comunas.to_crs(epsg=3857).geom.centroid.x\n",
    "comunas.to_crs(epsg=4326).geom.centroid.x\n",
    "\n"
   ]
  },
  {
   "cell_type": "code",
   "execution_count": null,
   "metadata": {},
   "outputs": [],
   "source": [
    "comunas.head(10).explore()"
   ]
  },
  {
   "cell_type": "code",
   "execution_count": null,
   "metadata": {},
   "outputs": [],
   "source": [
    "deck is None"
   ]
  },
  {
   "cell_type": "markdown",
   "metadata": {},
   "source": [
    "# With elections data"
   ]
  },
  {
   "cell_type": "code",
   "execution_count": null,
   "metadata": {},
   "outputs": [],
   "source": []
  },
  {
   "cell_type": "code",
   "execution_count": null,
   "metadata": {},
   "outputs": [],
   "source": [
    "df"
   ]
  },
  {
   "cell_type": "code",
   "execution_count": null,
   "metadata": {},
   "outputs": [],
   "source": [
    "import pandas as pd\n",
    "\n",
    "# Sample data\n",
    "data = {\n",
    "    'Location': ['Location A', 'Location B', 'Location C'],\n",
    "    'Latitude': [37.7749, 34.0522, 40.7128],\n",
    "    'Longitude': [-122.4194, -118.2437, -74.0060],\n",
    "    'Value': [10, 20, 30]\n",
    "}\n",
    "df = pd.DataFrame(data)\n",
    "\n",
    "import folium\n",
    "import plotly.express as px\n",
    "import plotly.graph_objs as go\n",
    "from folium.plugins import MarkerCluster\n",
    "import base64\n",
    "from io import BytesIO\n",
    "\n",
    "# Create a folium map\n",
    "m = folium.Map(location=[39.50, -98.35], zoom_start=4)\n",
    "\n",
    "# Create a marker cluster\n",
    "marker_cluster = MarkerCluster().add_to(m)\n",
    "\n",
    "# Function to create a Plotly bar chart and return it as HTML\n",
    "def create_bar_chart(location, value):\n",
    "    fig = px.bar(x=['Value'], y=[value], labels={'x': 'Metric', 'y': 'Value'}, title=location)\n",
    "    fig.update_layout(margin=dict(l=0, r=0, t=30, b=0))\n",
    "    buf = BytesIO()\n",
    "    fig.write_html(buf, include_plotlyjs='cdn')\n",
    "    return buf.getvalue()\n",
    "\n",
    "# Add markers with bar charts to the map\n",
    "for idx, row in df.iterrows():\n",
    "    chart_html = create_bar_chart(row['Location'], row['Value'])\n",
    "    encoded = base64.b64encode(chart_html.encode('utf-8')).decode('utf-8')\n",
    "    iframe = folium.IFrame(html=f'<iframe src=\"data:text/html;base64,{encoded}\" width=\"400\" height=\"300\"></iframe>', width=400, height=300)\n",
    "    popup = folium.Popup(iframe, max_width=400)\n",
    "    folium.Marker(location=[row['Latitude'], row['Longitude']], popup=popup).add_to(marker_cluster)\n",
    "\n",
    "# Save the map to an HTML file\n",
    "m.save('map_with_bar_charts.html')"
   ]
  },
  {
   "cell_type": "code",
   "execution_count": null,
   "metadata": {},
   "outputs": [],
   "source": []
  }
 ],
 "metadata": {
  "kernelspec": {
   "display_name": "Python 3",
   "language": "python",
   "name": "python3"
  },
  "language_info": {
   "codemirror_mode": {
    "name": "ipython",
    "version": 3
   },
   "file_extension": ".py",
   "mimetype": "text/x-python",
   "name": "python",
   "nbconvert_exporter": "python",
   "pygments_lexer": "ipython3",
   "version": "3.11.9"
  }
 },
 "nbformat": 4,
 "nbformat_minor": 2
}
