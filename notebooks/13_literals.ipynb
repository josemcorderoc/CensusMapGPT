{
 "cells": [
  {
   "cell_type": "code",
   "execution_count": 1,
   "metadata": {},
   "outputs": [
    {
     "name": "stderr",
     "output_type": "stream",
     "text": [
      "/Users/jm/Code/mapgpt-mvp/.conda/lib/python3.11/site-packages/pyproj/__init__.py:89: UserWarning: pyproj unable to set database path.\n",
      "  _pyproj_global_context_initialize()\n"
     ]
    }
   ],
   "source": [
    "import sys\n",
    "from sqlglot import parse_one, exp\n",
    "\n",
    "sys.path.append(\"../src\")\n",
    "from application.services.replace_literals import get_literals\n",
    "\n",
    "query = \"\"\"SELECT SUM(vm.votos) AS total_votos_boric\n",
    "FROM votos_mesa vm\n",
    "JOIN candidatura c ON vm.candidatura_id = c.id\n",
    "JOIN candidato ca ON c.candidato_id = ca.id\n",
    "JOIN eleccion e ON c.eleccion_id = e.id\n",
    "JOIN mesa m ON vm.mesa_id = m.id\n",
    "JOIN comuna co ON m.comuna_id = co.id\n",
    "WHERE ca.nombre = 'Gabriel Boric'\n",
    "  AND e.nombre = 'Elección Presidencial 2021 - Primera Vuelta'\n",
    "  AND co.nombre = 'Paredones';\n",
    "\"\"\"\n",
    "parsed_query = parse_one(query)\n",
    "literals = get_literals(parsed_query)"
   ]
  },
  {
   "cell_type": "code",
   "execution_count": 2,
   "metadata": {},
   "outputs": [
    {
     "data": {
      "text/plain": [
       "{('comuna', 'nombre'): Literal(this=Paredones, is_string=True),\n",
       " ('candidato', 'nombre'): Literal(this=Gabriel Boric, is_string=True),\n",
       " ('eleccion',\n",
       "  'nombre'): Literal(this=Elección Presidencial 2021 - Primera Vuelta, is_string=True)}"
      ]
     },
     "execution_count": 2,
     "metadata": {},
     "output_type": "execute_result"
    }
   ],
   "source": [
    "literals"
   ]
  }
 ],
 "metadata": {
  "kernelspec": {
   "display_name": "Python 3",
   "language": "python",
   "name": "python3"
  },
  "language_info": {
   "codemirror_mode": {
    "name": "ipython",
    "version": 3
   },
   "file_extension": ".py",
   "mimetype": "text/x-python",
   "name": "python",
   "nbconvert_exporter": "python",
   "pygments_lexer": "ipython3",
   "version": "3.11.9"
  }
 },
 "nbformat": 4,
 "nbformat_minor": 2
}
