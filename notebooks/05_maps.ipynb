{
 "cells": [
  {
   "cell_type": "code",
   "execution_count": null,
   "metadata": {},
   "outputs": [],
   "source": [
    "%load_ext autoreload\n",
    "%autoreload 2"
   ]
  },
  {
   "cell_type": "code",
   "execution_count": null,
   "metadata": {},
   "outputs": [],
   "source": [
    "import os\n",
    "import sys\n",
    "from dotenv import load_dotenv\n",
    "import pandas as pd\n",
    "import pydeck as pdk\n",
    "from IPython.display import display\n",
    "\n",
    "sys.path.append('../src')\n",
    "\n",
    "load_dotenv()\n",
    "\n",
    "from infrastructure.postgres_db import PostgresDB\n",
    "from application.maps.choropleth_map import ChoroplethMap\n",
    "\n",
    "db_name = os.environ.get(\"DB_NAME\")\n",
    "db_user = os.environ.get(\"DB_USER\")\n",
    "db_password = os.environ.get(\"DB_PASSWORD\")\n",
    "\n",
    "\n",
    "db = PostgresDB(db_name=db_name, db_user=db_user, db_password=db_password)\n"
   ]
  },
  {
   "cell_type": "code",
   "execution_count": null,
   "metadata": {},
   "outputs": [],
   "source": [
    "comunas = db.run_gpd_query(\"SELECT * FROM comuna\")\n",
    "\n",
    "# Function to extract coordinates\n",
    "def get_polygon_coordinates(geom):\n",
    "    if geom.type == 'Polygon':\n",
    "        return [(x, y) for x, y in geom.exterior.coords]\n",
    "    elif geom.type == 'MultiPolygon':\n",
    "        return [[(x, y) for x, y in polygon.exterior.coords] for polygon in geom.geoms][0]\n",
    "    else:\n",
    "        return None\n",
    "\n",
    "comunas = comunas.to_crs(epsg=4326)\n",
    "\n",
    "comunas = comunas.assign(\n",
    "    lat = comunas.geom.centroid.y,\n",
    "    lon = comunas.geom.centroid.x,\n",
    "    coordinates = comunas.geom.apply(lambda geom: [list(coord) for coord in geom.geoms[0].exterior.coords]),\n",
    "    coordinates2 = comunas.geom.apply(get_polygon_coordinates),\n",
    "    score=1000,\n",
    ")\n"
   ]
  },
  {
   "cell_type": "code",
   "execution_count": null,
   "metadata": {},
   "outputs": [],
   "source": [
    "size_mb = comunas[\"geom\"].simplify(10, preserve_topology=True).memory_usage() / 1024\n",
    "print(f\"The size of the 'comunas' DataFrame is approximately {size_mb:.2f} KB.\")"
   ]
  },
  {
   "cell_type": "code",
   "execution_count": null,
   "metadata": {},
   "outputs": [],
   "source": [
    "size_mb = comunas[\"geom\"].memory_usage() / 1024\n",
    "print(f\"The size of the 'comunas' DataFrame is approximately {size_mb:.2f} KB.\")"
   ]
  },
  {
   "cell_type": "code",
   "execution_count": null,
   "metadata": {},
   "outputs": [],
   "source": [
    "comunas_proj = comunas.to_crs(epsg=3857)\n",
    "tolerance = 1000  # Adjust the tolerance as needed (100 meters in this example)\n",
    "comunas_proj.geom = comunas_proj.geom.simplify(tolerance, preserve_topology=True)\n",
    "\n",
    "comunas_simplified = comunas_proj.to_crs(epsg=4326)\n"
   ]
  },
  {
   "cell_type": "code",
   "execution_count": null,
   "metadata": {},
   "outputs": [],
   "source": [
    "size_mb = comunas_simplified[\"geom\"].memory_usage(deep=True) / 1024\n",
    "print(f\"The size of the 'comunas' DataFrame is approximately {size_mb:.2f} KB.\")"
   ]
  },
  {
   "cell_type": "code",
   "execution_count": null,
   "metadata": {},
   "outputs": [],
   "source": [
    "comunas[\"geom\"].memory_usage(deep=True)"
   ]
  },
  {
   "cell_type": "code",
   "execution_count": null,
   "metadata": {},
   "outputs": [],
   "source": [
    "# comunas.geom.apply(lambda geom: len([list(coord) for coord in geom.geoms[0].exterior.coords])).describe()\n",
    "# comunas_simplified.geom.apply(get_polygon_coordinates).apply(len).describe()"
   ]
  },
  {
   "cell_type": "code",
   "execution_count": null,
   "metadata": {},
   "outputs": [],
   "source": [
    "cm =  ChoroplethMap(comunas_simplified, \"id\")\n",
    "cm.show()"
   ]
  },
  {
   "cell_type": "code",
   "execution_count": null,
   "metadata": {},
   "outputs": [],
   "source": [
    "display(cm.fig)"
   ]
  },
  {
   "cell_type": "code",
   "execution_count": null,
   "metadata": {},
   "outputs": [],
   "source": [
    "\n",
    "cm.show()"
   ]
  }
 ],
 "metadata": {
  "kernelspec": {
   "display_name": "Python 3",
   "language": "python",
   "name": "python3"
  },
  "language_info": {
   "codemirror_mode": {
    "name": "ipython",
    "version": 3
   },
   "file_extension": ".py",
   "mimetype": "text/x-python",
   "name": "python",
   "nbconvert_exporter": "python",
   "pygments_lexer": "ipython3",
   "version": "3.11.9"
  }
 },
 "nbformat": 4,
 "nbformat_minor": 2
}
