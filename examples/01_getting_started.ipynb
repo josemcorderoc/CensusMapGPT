{
 "cells": [
  {
   "cell_type": "code",
   "execution_count": null,
   "metadata": {},
   "outputs": [],
   "source": [
    "import os\n",
    "import sys\n",
    "sys.path.append(\"../src\")\n",
    "from dotenv import load_dotenv\n",
    "\n",
    "from application.core.prompt2map import Prompt2Map\n",
    "\n",
    "load_dotenv()"
   ]
  },
  {
   "cell_type": "code",
   "execution_count": null,
   "metadata": {},
   "outputs": [],
   "source": [
    "db_name = os.environ.get(\"DB_NAME\")\n",
    "db_user = os.environ.get(\"DB_USER\")\n",
    "db_password = os.environ.get(\"DB_PASSWORD\")\n",
    "# db_host = os.environ.get(\"DB_HOST\")\n",
    "# db_port = os.environ.get(\"DB_PORT\")\n",
    "\n",
    "ptm = Prompt2Map.from_postgis(db_name, db_user, db_password)"
   ]
  },
  {
   "cell_type": "code",
   "execution_count": null,
   "metadata": {},
   "outputs": [],
   "source": [
    "prompt = \"Resultados del Partido Socialista en elección de diputados 2017, comunas de Paredones, Lolol, Santa Cruz\"\n",
    "my_map = ptm.to_map(prompt)\n",
    "my_map"
   ]
  }
 ],
 "metadata": {
  "kernelspec": {
   "display_name": "Python 3",
   "language": "python",
   "name": "python3"
  },
  "language_info": {
   "codemirror_mode": {
    "name": "ipython",
    "version": 3
   },
   "file_extension": ".py",
   "mimetype": "text/x-python",
   "name": "python",
   "nbconvert_exporter": "python",
   "pygments_lexer": "ipython3",
   "version": "3.11.9"
  }
 },
 "nbformat": 4,
 "nbformat_minor": 2
}
